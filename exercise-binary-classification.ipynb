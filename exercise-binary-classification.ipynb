{
 "cells": [
  {
   "cell_type": "markdown",
   "id": "309710d2",
   "metadata": {
    "papermill": {
     "duration": 0.005745,
     "end_time": "2022-07-24T12:37:35.609260",
     "exception": false,
     "start_time": "2022-07-24T12:37:35.603515",
     "status": "completed"
    },
    "tags": []
   },
   "source": [
    "**This notebook is an exercise in the [Intro to Deep Learning](https://www.kaggle.com/learn/intro-to-deep-learning) course.  You can reference the tutorial at [this link](https://www.kaggle.com/ryanholbrook/binary-classification).**\n",
    "\n",
    "---\n"
   ]
  },
  {
   "cell_type": "markdown",
   "id": "f368a26d",
   "metadata": {
    "papermill": {
     "duration": 0.00401,
     "end_time": "2022-07-24T12:37:35.617950",
     "exception": false,
     "start_time": "2022-07-24T12:37:35.613940",
     "status": "completed"
    },
    "tags": []
   },
   "source": [
    "# Introduction #\n",
    "\n",
    "In this exercise, you'll build a model to predict hotel cancellations with a binary classifier."
   ]
  },
  {
   "cell_type": "code",
   "execution_count": 1,
   "id": "1c517bec",
   "metadata": {
    "execution": {
     "iopub.execute_input": "2022-07-24T12:37:35.629425Z",
     "iopub.status.busy": "2022-07-24T12:37:35.628847Z",
     "iopub.status.idle": "2022-07-24T12:37:35.681596Z",
     "shell.execute_reply": "2022-07-24T12:37:35.680611Z"
    },
    "lines_to_next_cell": 0,
    "papermill": {
     "duration": 0.061794,
     "end_time": "2022-07-24T12:37:35.684482",
     "exception": false,
     "start_time": "2022-07-24T12:37:35.622688",
     "status": "completed"
    },
    "tags": []
   },
   "outputs": [],
   "source": [
    "# Setup plotting\n",
    "import matplotlib.pyplot as plt\n",
    "plt.style.use('seaborn-whitegrid')\n",
    "# Set Matplotlib defaults\n",
    "plt.rc('figure', autolayout=True)\n",
    "plt.rc('axes', labelweight='bold', labelsize='large',\n",
    "       titleweight='bold', titlesize=18, titlepad=10)\n",
    "plt.rc('animation', html='html5')\n",
    "\n",
    "# Setup feedback system\n",
    "from learntools.core import binder\n",
    "binder.bind(globals())\n",
    "from learntools.deep_learning_intro.ex6 import *"
   ]
  },
  {
   "cell_type": "markdown",
   "id": "51bcff05",
   "metadata": {
    "papermill": {
     "duration": 0.004184,
     "end_time": "2022-07-24T12:37:35.693314",
     "exception": false,
     "start_time": "2022-07-24T12:37:35.689130",
     "status": "completed"
    },
    "tags": []
   },
   "source": [
    "First, load the *Hotel Cancellations* dataset."
   ]
  },
  {
   "cell_type": "code",
   "execution_count": 2,
   "id": "1d95df61",
   "metadata": {
    "execution": {
     "iopub.execute_input": "2022-07-24T12:37:35.704167Z",
     "iopub.status.busy": "2022-07-24T12:37:35.703468Z",
     "iopub.status.idle": "2022-07-24T12:37:38.231537Z",
     "shell.execute_reply": "2022-07-24T12:37:38.230074Z"
    },
    "lines_to_next_cell": 2,
    "papermill": {
     "duration": 2.537178,
     "end_time": "2022-07-24T12:37:38.234765",
     "exception": false,
     "start_time": "2022-07-24T12:37:35.697587",
     "status": "completed"
    },
    "tags": []
   },
   "outputs": [],
   "source": [
    "import pandas as pd\n",
    "\n",
    "from sklearn.model_selection import train_test_split\n",
    "from sklearn.preprocessing import StandardScaler, OneHotEncoder\n",
    "from sklearn.impute import SimpleImputer\n",
    "from sklearn.pipeline import make_pipeline\n",
    "from sklearn.compose import make_column_transformer\n",
    "\n",
    "hotel = pd.read_csv('../input/dl-course-data/hotel.csv')\n",
    "\n",
    "X = hotel.copy()\n",
    "y = X.pop('is_canceled')\n",
    "\n",
    "X['arrival_date_month'] = \\\n",
    "    X['arrival_date_month'].map(\n",
    "        {'January':1, 'February': 2, 'March':3,\n",
    "         'April':4, 'May':5, 'June':6, 'July':7,\n",
    "         'August':8, 'September':9, 'October':10,\n",
    "         'November':11, 'December':12}\n",
    "    )\n",
    "\n",
    "features_num = [\n",
    "    \"lead_time\", \"arrival_date_week_number\",\n",
    "    \"arrival_date_day_of_month\", \"stays_in_weekend_nights\",\n",
    "    \"stays_in_week_nights\", \"adults\", \"children\", \"babies\",\n",
    "    \"is_repeated_guest\", \"previous_cancellations\",\n",
    "    \"previous_bookings_not_canceled\", \"required_car_parking_spaces\",\n",
    "    \"total_of_special_requests\", \"adr\",\n",
    "]\n",
    "features_cat = [\n",
    "    \"hotel\", \"arrival_date_month\", \"meal\",\n",
    "    \"market_segment\", \"distribution_channel\",\n",
    "    \"reserved_room_type\", \"deposit_type\", \"customer_type\",\n",
    "]\n",
    "\n",
    "transformer_num = make_pipeline(\n",
    "    SimpleImputer(strategy=\"constant\"), # there are a few missing values\n",
    "    StandardScaler(),\n",
    ")\n",
    "transformer_cat = make_pipeline(\n",
    "    SimpleImputer(strategy=\"constant\", fill_value=\"NA\"),\n",
    "    OneHotEncoder(handle_unknown='ignore'),\n",
    ")\n",
    "\n",
    "preprocessor = make_column_transformer(\n",
    "    (transformer_num, features_num),\n",
    "    (transformer_cat, features_cat),\n",
    ")\n",
    "\n",
    "# stratify - make sure classes are evenlly represented across splits\n",
    "X_train, X_valid, y_train, y_valid = \\\n",
    "    train_test_split(X, y, stratify=y, train_size=0.75)\n",
    "\n",
    "X_train = preprocessor.fit_transform(X_train)\n",
    "X_valid = preprocessor.transform(X_valid)\n",
    "\n",
    "input_shape = [X_train.shape[1]]"
   ]
  },
  {
   "cell_type": "markdown",
   "id": "af0f7088",
   "metadata": {
    "papermill": {
     "duration": 0.004292,
     "end_time": "2022-07-24T12:37:38.245434",
     "exception": false,
     "start_time": "2022-07-24T12:37:38.241142",
     "status": "completed"
    },
    "tags": []
   },
   "source": [
    "# 1) Define Model #\n",
    "\n",
    "The model we'll use this time will have both batch normalization and dropout layers. To ease reading we've broken the diagram into blocks, but you can define it layer by layer as usual.\n",
    "\n",
    "Define a model with an architecture given by this diagram:\n",
    "\n",
    "<figure style=\"padding: 1em;\">\n",
    "<img src=\"https://i.imgur.com/V04o59Z.png\" width=\"400\" alt=\"Diagram of network architecture: BatchNorm, Dense, BatchNorm, Dropout, Dense, BatchNorm, Dropout, Dense.\">\n",
    "<figcaption style=\"textalign: center; font-style: italic\"><center>Diagram of a binary classifier.</center></figcaption>\n",
    "</figure>\n"
   ]
  },
  {
   "cell_type": "code",
   "execution_count": 3,
   "id": "74135af0",
   "metadata": {
    "execution": {
     "iopub.execute_input": "2022-07-24T12:37:38.256767Z",
     "iopub.status.busy": "2022-07-24T12:37:38.256088Z",
     "iopub.status.idle": "2022-07-24T12:37:44.711397Z",
     "shell.execute_reply": "2022-07-24T12:37:44.710020Z"
    },
    "lines_to_next_cell": 2,
    "papermill": {
     "duration": 6.465449,
     "end_time": "2022-07-24T12:37:44.715459",
     "exception": false,
     "start_time": "2022-07-24T12:37:38.250010",
     "status": "completed"
    },
    "tags": []
   },
   "outputs": [
    {
     "name": "stderr",
     "output_type": "stream",
     "text": [
      "2022-07-24 12:37:44.589510: I tensorflow/core/common_runtime/process_util.cc:146] Creating new thread pool with default inter op setting: 2. Tune using inter_op_parallelism_threads for best performance.\n"
     ]
    },
    {
     "data": {
      "application/javascript": [
       "parent.postMessage({\"jupyterEvent\": \"custom.exercise_interaction\", \"data\": {\"outcomeType\": 1, \"valueTowardsCompletion\": 0.3333333333333333, \"interactionType\": 1, \"questionType\": 2, \"questionId\": \"1_Q1\", \"learnToolsVersion\": \"0.3.4\", \"failureMessage\": \"\", \"exceptionClass\": \"\", \"trace\": \"\"}}, \"*\")"
      ],
      "text/plain": [
       "<IPython.core.display.Javascript object>"
      ]
     },
     "metadata": {},
     "output_type": "display_data"
    },
    {
     "data": {
      "text/markdown": [
       "<span style=\"color:#33cc33\">Correct</span>"
      ],
      "text/plain": [
       "Correct"
      ]
     },
     "metadata": {},
     "output_type": "display_data"
    }
   ],
   "source": [
    "from tensorflow import keras\n",
    "from tensorflow.keras import layers\n",
    "\n",
    "# YOUR CODE HERE: define the model given in the diagram\n",
    "model = keras.Sequential([\n",
    "    layers.BatchNormalization(input_shape=input_shape),\n",
    "    layers.Dense(256, activation='relu'),\n",
    "    layers.BatchNormalization(),\n",
    "    layers.Dropout(0.3),\n",
    "    layers.Dense(256, activation='relu'),\n",
    "    layers.BatchNormalization(),\n",
    "    layers.Dropout(0.3),\n",
    "    layers.Dense(1, activation='sigmoid'),\n",
    "])\n",
    "# Check your answer\n",
    "q_1.check()"
   ]
  },
  {
   "cell_type": "markdown",
   "id": "b9b878b5",
   "metadata": {
    "papermill": {
     "duration": 0.004486,
     "end_time": "2022-07-24T12:37:44.724840",
     "exception": false,
     "start_time": "2022-07-24T12:37:44.720354",
     "status": "completed"
    },
    "tags": []
   },
   "source": [
    "# 2) Add Optimizer, Loss, and Metric #\n",
    "\n",
    "Now compile the model with the Adam optimizer and binary versions of the cross-entropy loss and accuracy metric."
   ]
  },
  {
   "cell_type": "code",
   "execution_count": 4,
   "id": "31cb3ad7",
   "metadata": {
    "execution": {
     "iopub.execute_input": "2022-07-24T12:37:44.735658Z",
     "iopub.status.busy": "2022-07-24T12:37:44.735242Z",
     "iopub.status.idle": "2022-07-24T12:37:44.753690Z",
     "shell.execute_reply": "2022-07-24T12:37:44.752472Z"
    },
    "lines_to_next_cell": 0,
    "papermill": {
     "duration": 0.027526,
     "end_time": "2022-07-24T12:37:44.756971",
     "exception": false,
     "start_time": "2022-07-24T12:37:44.729445",
     "status": "completed"
    },
    "tags": []
   },
   "outputs": [
    {
     "data": {
      "application/javascript": [
       "parent.postMessage({\"jupyterEvent\": \"custom.exercise_interaction\", \"data\": {\"outcomeType\": 1, \"valueTowardsCompletion\": 0.3333333333333333, \"interactionType\": 1, \"questionType\": 2, \"questionId\": \"2_Q2\", \"learnToolsVersion\": \"0.3.4\", \"failureMessage\": \"\", \"exceptionClass\": \"\", \"trace\": \"\"}}, \"*\")"
      ],
      "text/plain": [
       "<IPython.core.display.Javascript object>"
      ]
     },
     "metadata": {},
     "output_type": "display_data"
    },
    {
     "data": {
      "text/markdown": [
       "<span style=\"color:#33cc33\">Correct</span>"
      ],
      "text/plain": [
       "Correct"
      ]
     },
     "metadata": {},
     "output_type": "display_data"
    }
   ],
   "source": [
    "# YOUR CODE HERE\n",
    "\n",
    "model.compile(\n",
    "    optimizer='adam',\n",
    "    loss='binary_crossentropy',\n",
    "    metrics=['binary_accuracy'],\n",
    ")\n",
    "# Check your answer\n",
    "q_2.check()"
   ]
  },
  {
   "cell_type": "markdown",
   "id": "eaaa9819",
   "metadata": {
    "papermill": {
     "duration": 0.004796,
     "end_time": "2022-07-24T12:37:44.766972",
     "exception": false,
     "start_time": "2022-07-24T12:37:44.762176",
     "status": "completed"
    },
    "tags": []
   },
   "source": [
    "Finally, run this cell to train the model and view the learning curves. It may run for around 60 to 70 epochs, which could take a minute or two."
   ]
  },
  {
   "cell_type": "code",
   "execution_count": 5,
   "id": "967e4e83",
   "metadata": {
    "execution": {
     "iopub.execute_input": "2022-07-24T12:37:44.780562Z",
     "iopub.status.busy": "2022-07-24T12:37:44.779102Z",
     "iopub.status.idle": "2022-07-24T12:39:08.668296Z",
     "shell.execute_reply": "2022-07-24T12:39:08.667170Z"
    },
    "papermill": {
     "duration": 83.898955,
     "end_time": "2022-07-24T12:39:08.671096",
     "exception": false,
     "start_time": "2022-07-24T12:37:44.772141",
     "status": "completed"
    },
    "tags": []
   },
   "outputs": [
    {
     "name": "stderr",
     "output_type": "stream",
     "text": [
      "2022-07-24 12:37:44.893744: I tensorflow/compiler/mlir/mlir_graph_optimization_pass.cc:185] None of the MLIR Optimization Passes are enabled (registered 2)\n"
     ]
    },
    {
     "name": "stdout",
     "output_type": "stream",
     "text": [
      "Epoch 1/200\n",
      "175/175 [==============================] - 5s 18ms/step - loss: 0.4752 - binary_accuracy: 0.7756 - val_loss: 0.4293 - val_binary_accuracy: 0.8056\n",
      "Epoch 2/200\n",
      "175/175 [==============================] - 3s 17ms/step - loss: 0.4221 - binary_accuracy: 0.8016 - val_loss: 0.4011 - val_binary_accuracy: 0.8126\n",
      "Epoch 3/200\n",
      "175/175 [==============================] - 3s 17ms/step - loss: 0.4082 - binary_accuracy: 0.8092 - val_loss: 0.3945 - val_binary_accuracy: 0.8146\n",
      "Epoch 4/200\n",
      "175/175 [==============================] - 3s 17ms/step - loss: 0.4023 - binary_accuracy: 0.8123 - val_loss: 0.3894 - val_binary_accuracy: 0.8202\n",
      "Epoch 5/200\n",
      "175/175 [==============================] - 3s 17ms/step - loss: 0.3961 - binary_accuracy: 0.8150 - val_loss: 0.3874 - val_binary_accuracy: 0.8232\n",
      "Epoch 6/200\n",
      "175/175 [==============================] - 4s 20ms/step - loss: 0.3908 - binary_accuracy: 0.8184 - val_loss: 0.3817 - val_binary_accuracy: 0.8252\n",
      "Epoch 7/200\n",
      "175/175 [==============================] - 3s 17ms/step - loss: 0.3889 - binary_accuracy: 0.8189 - val_loss: 0.3811 - val_binary_accuracy: 0.8266\n",
      "Epoch 8/200\n",
      "175/175 [==============================] - 3s 16ms/step - loss: 0.3842 - binary_accuracy: 0.8224 - val_loss: 0.3836 - val_binary_accuracy: 0.8269\n",
      "Epoch 9/200\n",
      "175/175 [==============================] - 3s 16ms/step - loss: 0.3814 - binary_accuracy: 0.8226 - val_loss: 0.3730 - val_binary_accuracy: 0.8296\n",
      "Epoch 10/200\n",
      "175/175 [==============================] - 3s 16ms/step - loss: 0.3782 - binary_accuracy: 0.8252 - val_loss: 0.3722 - val_binary_accuracy: 0.8302\n",
      "Epoch 11/200\n",
      "175/175 [==============================] - 3s 18ms/step - loss: 0.3752 - binary_accuracy: 0.8264 - val_loss: 0.3698 - val_binary_accuracy: 0.8315\n",
      "Epoch 12/200\n",
      "175/175 [==============================] - 3s 17ms/step - loss: 0.3730 - binary_accuracy: 0.8271 - val_loss: 0.3697 - val_binary_accuracy: 0.8325\n",
      "Epoch 13/200\n",
      "175/175 [==============================] - 3s 17ms/step - loss: 0.3714 - binary_accuracy: 0.8284 - val_loss: 0.3650 - val_binary_accuracy: 0.8343\n",
      "Epoch 14/200\n",
      "175/175 [==============================] - 3s 17ms/step - loss: 0.3683 - binary_accuracy: 0.8303 - val_loss: 0.3648 - val_binary_accuracy: 0.8333\n",
      "Epoch 15/200\n",
      "175/175 [==============================] - 3s 17ms/step - loss: 0.3666 - binary_accuracy: 0.8305 - val_loss: 0.3651 - val_binary_accuracy: 0.8322\n",
      "Epoch 16/200\n",
      "175/175 [==============================] - 3s 17ms/step - loss: 0.3659 - binary_accuracy: 0.8314 - val_loss: 0.3653 - val_binary_accuracy: 0.8306\n",
      "Epoch 17/200\n",
      "175/175 [==============================] - 3s 17ms/step - loss: 0.3643 - binary_accuracy: 0.8314 - val_loss: 0.3615 - val_binary_accuracy: 0.8325\n",
      "Epoch 18/200\n",
      "175/175 [==============================] - 3s 17ms/step - loss: 0.3628 - binary_accuracy: 0.8318 - val_loss: 0.3607 - val_binary_accuracy: 0.8351\n",
      "Epoch 19/200\n",
      "175/175 [==============================] - 3s 17ms/step - loss: 0.3600 - binary_accuracy: 0.8346 - val_loss: 0.3603 - val_binary_accuracy: 0.8355\n",
      "Epoch 20/200\n",
      "175/175 [==============================] - 3s 19ms/step - loss: 0.3596 - binary_accuracy: 0.8343 - val_loss: 0.3575 - val_binary_accuracy: 0.8359\n",
      "Epoch 21/200\n",
      "175/175 [==============================] - 3s 18ms/step - loss: 0.3581 - binary_accuracy: 0.8358 - val_loss: 0.3611 - val_binary_accuracy: 0.8358\n",
      "Epoch 22/200\n",
      "175/175 [==============================] - 3s 17ms/step - loss: 0.3558 - binary_accuracy: 0.8357 - val_loss: 0.3576 - val_binary_accuracy: 0.8371\n",
      "Epoch 23/200\n",
      "175/175 [==============================] - 3s 17ms/step - loss: 0.3549 - binary_accuracy: 0.8369 - val_loss: 0.3594 - val_binary_accuracy: 0.8338\n",
      "Epoch 24/200\n",
      "175/175 [==============================] - 3s 17ms/step - loss: 0.3551 - binary_accuracy: 0.8353 - val_loss: 0.3584 - val_binary_accuracy: 0.8352\n",
      "Epoch 25/200\n",
      "175/175 [==============================] - 3s 17ms/step - loss: 0.3517 - binary_accuracy: 0.8377 - val_loss: 0.3582 - val_binary_accuracy: 0.8356\n"
     ]
    },
    {
     "data": {
      "text/plain": [
       "<AxesSubplot:title={'center':'Accuracy'}>"
      ]
     },
     "execution_count": 5,
     "metadata": {},
     "output_type": "execute_result"
    },
    {
     "data": {
      "image/png": "[encoded data removed]",
      "text/plain": [
       "<Figure size 432x288 with 1 Axes>"
      ]
     },
     "metadata": {},
     "output_type": "display_data"
    },
    {
     "data": {
      "image/png": "[encoded data removed]",
      "text/plain": [
       "<Figure size 432x288 with 1 Axes>"
      ]
     },
     "metadata": {},
     "output_type": "display_data"
    }
   ],
   "source": [
    "early_stopping = keras.callbacks.EarlyStopping(\n",
    "    patience=5,\n",
    "    min_delta=0.001,\n",
    "    restore_best_weights=True,\n",
    ")\n",
    "history = model.fit(\n",
    "    X_train, y_train,\n",
    "    validation_data=(X_valid, y_valid),\n",
    "    batch_size=512,\n",
    "    epochs=200,\n",
    "    callbacks=[early_stopping],\n",
    ")\n",
    "\n",
    "history_df = pd.DataFrame(history.history)\n",
    "history_df.loc[:, ['loss', 'val_loss']].plot(title=\"Cross-entropy\")\n",
    "history_df.loc[:, ['binary_accuracy', 'val_binary_accuracy']].plot(title=\"Accuracy\")"
   ]
  },
  {
   "cell_type": "markdown",
   "id": "2bea0dfd",
   "metadata": {
    "papermill": {
     "duration": 0.086796,
     "end_time": "2022-07-24T12:39:08.845578",
     "exception": false,
     "start_time": "2022-07-24T12:39:08.758782",
     "status": "completed"
    },
    "tags": []
   },
   "source": [
    "# 3) Train and Evaluate #\n",
    "\n",
    "\n",
    "What do you think about the learning curves? Does it look like the model underfit or overfit? Was the cross-entropy loss a good stand-in for accuracy?"
   ]
  },
  {
   "cell_type": "code",
   "execution_count": 6,
   "id": "ed0d3047",
   "metadata": {
    "execution": {
     "iopub.execute_input": "2022-07-24T12:39:09.023396Z",
     "iopub.status.busy": "2022-07-24T12:39:09.023009Z",
     "iopub.status.idle": "2022-07-24T12:39:09.033777Z",
     "shell.execute_reply": "2022-07-24T12:39:09.032434Z"
    },
    "papermill": {
     "duration": 0.10304,
     "end_time": "2022-07-24T12:39:09.036491",
     "exception": false,
     "start_time": "2022-07-24T12:39:08.933451",
     "status": "completed"
    },
    "tags": []
   },
   "outputs": [
    {
     "data": {
      "application/javascript": [
       "parent.postMessage({\"jupyterEvent\": \"custom.exercise_interaction\", \"data\": {\"outcomeType\": 1, \"valueTowardsCompletion\": 0.3333333333333333, \"interactionType\": 1, \"questionType\": 4, \"questionId\": \"3_Q3\", \"learnToolsVersion\": \"0.3.4\", \"failureMessage\": \"\", \"exceptionClass\": \"\", \"trace\": \"\"}}, \"*\")"
      ],
      "text/plain": [
       "<IPython.core.display.Javascript object>"
      ]
     },
     "metadata": {},
     "output_type": "display_data"
    },
    {
     "data": {
      "text/markdown": [
       "<span style=\"color:#33cc33\">Correct:</span> \n",
       "\n",
       "Though we can see the training loss continuing to fall, the early stopping callback prevented any overfitting. Moreover, the accuracy rose at the same rate as the cross-entropy fell, so it appears that minimizing cross-entropy was a good stand-in. All in all, it looks like this training was a success!"
      ],
      "text/plain": [
       "Correct: \n",
       "\n",
       "Though we can see the training loss continuing to fall, the early stopping callback prevented any overfitting. Moreover, the accuracy rose at the same rate as the cross-entropy fell, so it appears that minimizing cross-entropy was a good stand-in. All in all, it looks like this training was a success!"
      ]
     },
     "metadata": {},
     "output_type": "display_data"
    }
   ],
   "source": [
    "# View the solution (Run this cell to receive credit!)\n",
    "q_3.check()"
   ]
  },
  {
   "cell_type": "markdown",
   "id": "84d8eb7f",
   "metadata": {
    "papermill": {
     "duration": 0.089057,
     "end_time": "2022-07-24T12:39:09.213568",
     "exception": false,
     "start_time": "2022-07-24T12:39:09.124511",
     "status": "completed"
    },
    "tags": []
   },
   "source": [
    "# Conclusion #\n",
    "\n",
    "Congratulations! You've completed Kaggle's *Introduction to Deep Learning* course!\n",
    "\n",
    "With your new skills you're ready to take on more advanced applications like computer vision and sentiment classification. What would you like to do next?\n",
    "\n",
    "Why not try one of our *Getting Started* competitions?\n",
    "\n",
    "- Classify images with TPUs in [**Petals to the Metal**](https://www.kaggle.com/c/tpu-getting-started)\n",
    "- Create art with GANs in [**I'm Something of a Painter Myself**](https://www.kaggle.com/c/gan-getting-started)\n",
    "- Classify Tweets in [**Real or Not? NLP with Disaster Tweets**](https://www.kaggle.com/c/nlp-getting-started)\n",
    "- Detect contradiction and entailment in [**Contradictory, My Dear Watson**](https://www.kaggle.com/c/contradictory-my-dear-watson)\n",
    "\n",
    "Until next time, Kagglers!"
   ]
  },
  {
   "cell_type": "markdown",
   "id": "4026bb47",
   "metadata": {
    "papermill": {
     "duration": 0.090227,
     "end_time": "2022-07-24T12:39:09.391962",
     "exception": false,
     "start_time": "2022-07-24T12:39:09.301735",
     "status": "completed"
    },
    "tags": []
   },
   "source": [
    "---\n",
    "\n",
    "\n",
    "\n",
    "\n",
    "*Have questions or comments? Visit the [course discussion forum](https://www.kaggle.com/learn/intro-to-deep-learning/discussion) to chat with other learners.*"
   ]
  }
 ],
 "metadata": {
  "kernelspec": {
   "display_name": "Python 3",
   "language": "python",
   "name": "python3"
  },
  "language_info": {
   "codemirror_mode": {
    "name": "ipython",
    "version": 3
   },
   "file_extension": ".py",
   "mimetype": "text/x-python",
   "name": "python",
   "nbconvert_exporter": "python",
   "pygments_lexer": "ipython3",
   "version": "3.7.12"
  },
  "papermill": {
   "default_parameters": {},
   "duration": 106.931664,
   "end_time": "2022-07-24T12:39:12.322470",
   "environment_variables": {},
   "exception": null,
   "input_path": "__notebook__.ipynb",
   "output_path": "__notebook__.ipynb",
   "parameters": {},
   "start_time": "2022-07-24T12:37:25.390806",
   "version": "2.3.4"
  }
 },
 "nbformat": 4,
 "nbformat_minor": 5
}
