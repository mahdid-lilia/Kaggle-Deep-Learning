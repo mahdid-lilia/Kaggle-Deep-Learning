{
 "cells": [
  {
   "cell_type": "markdown",
   "id": "96d055d8",
   "metadata": {
    "papermill": {
     "duration": 0.011078,
     "end_time": "2022-07-24T12:22:35.777260",
     "exception": false,
     "start_time": "2022-07-24T12:22:35.766182",
     "status": "completed"
    },
    "tags": []
   },
   "source": [
    "**This notebook is an exercise in the [Intro to Deep Learning](https://www.kaggle.com/learn/intro-to-deep-learning) course.  You can reference the tutorial at [this link](https://www.kaggle.com/ryanholbrook/dropout-and-batch-normalization).**\n",
    "\n",
    "---\n"
   ]
  },
  {
   "cell_type": "markdown",
   "id": "f649d28b",
   "metadata": {
    "papermill": {
     "duration": 0.005847,
     "end_time": "2022-07-24T12:22:35.791541",
     "exception": false,
     "start_time": "2022-07-24T12:22:35.785694",
     "status": "completed"
    },
    "tags": []
   },
   "source": [
    "# Introduction #\n",
    "\n",
    "In this exercise, you'll add dropout to the *Spotify* model from Exercise 4 and see how batch normalization can let you successfully train models on difficult datasets.\n",
    "\n",
    "Run the next cell to get started!"
   ]
  },
  {
   "cell_type": "code",
   "execution_count": 1,
   "id": "eea53e66",
   "metadata": {
    "execution": {
     "iopub.execute_input": "2022-07-24T12:22:35.806493Z",
     "iopub.status.busy": "2022-07-24T12:22:35.805860Z",
     "iopub.status.idle": "2022-07-24T12:22:35.878049Z",
     "shell.execute_reply": "2022-07-24T12:22:35.876976Z"
    },
    "papermill": {
     "duration": 0.082899,
     "end_time": "2022-07-24T12:22:35.880850",
     "exception": false,
     "start_time": "2022-07-24T12:22:35.797951",
     "status": "completed"
    },
    "tags": []
   },
   "outputs": [],
   "source": [
    "# Setup plotting\n",
    "import matplotlib.pyplot as plt\n",
    "plt.style.use('seaborn-whitegrid')\n",
    "# Set Matplotlib defaults\n",
    "plt.rc('figure', autolayout=True)\n",
    "plt.rc('axes', labelweight='bold', labelsize='large',\n",
    "       titleweight='bold', titlesize=18, titlepad=10)\n",
    "plt.rc('animation', html='html5')\n",
    "\n",
    "# Setup feedback system\n",
    "from learntools.core import binder\n",
    "binder.bind(globals())\n",
    "from learntools.deep_learning_intro.ex5 import *"
   ]
  },
  {
   "cell_type": "markdown",
   "id": "e149a21c",
   "metadata": {
    "papermill": {
     "duration": 0.005851,
     "end_time": "2022-07-24T12:22:35.892834",
     "exception": false,
     "start_time": "2022-07-24T12:22:35.886983",
     "status": "completed"
    },
    "tags": []
   },
   "source": [
    "First load the *Spotify* dataset."
   ]
  },
  {
   "cell_type": "code",
   "execution_count": 2,
   "id": "32bdb6f0",
   "metadata": {
    "execution": {
     "iopub.execute_input": "2022-07-24T12:22:35.907765Z",
     "iopub.status.busy": "2022-07-24T12:22:35.906991Z",
     "iopub.status.idle": "2022-07-24T12:22:44.834729Z",
     "shell.execute_reply": "2022-07-24T12:22:44.833080Z"
    },
    "papermill": {
     "duration": 8.939519,
     "end_time": "2022-07-24T12:22:44.838477",
     "exception": false,
     "start_time": "2022-07-24T12:22:35.898958",
     "status": "completed"
    },
    "tags": []
   },
   "outputs": [
    {
     "name": "stdout",
     "output_type": "stream",
     "text": [
      "Input shape: [18]\n"
     ]
    }
   ],
   "source": [
    "import pandas as pd\n",
    "from sklearn.preprocessing import StandardScaler, OneHotEncoder\n",
    "from sklearn.compose import make_column_transformer\n",
    "from sklearn.model_selection import GroupShuffleSplit\n",
    "\n",
    "from tensorflow import keras\n",
    "from tensorflow.keras import layers\n",
    "from tensorflow.keras import callbacks\n",
    "\n",
    "spotify = pd.read_csv('../input/dl-course-data/spotify.csv')\n",
    "\n",
    "X = spotify.copy().dropna()\n",
    "y = X.pop('track_popularity')\n",
    "artists = X['track_artist']\n",
    "\n",
    "features_num = ['danceability', 'energy', 'key', 'loudness', 'mode',\n",
    "                'speechiness', 'acousticness', 'instrumentalness',\n",
    "                'liveness', 'valence', 'tempo', 'duration_ms']\n",
    "features_cat = ['playlist_genre']\n",
    "\n",
    "preprocessor = make_column_transformer(\n",
    "    (StandardScaler(), features_num),\n",
    "    (OneHotEncoder(), features_cat),\n",
    ")\n",
    "\n",
    "def group_split(X, y, group, train_size=0.75):\n",
    "    splitter = GroupShuffleSplit(train_size=train_size)\n",
    "    train, test = next(splitter.split(X, y, groups=group))\n",
    "    return (X.iloc[train], X.iloc[test], y.iloc[train], y.iloc[test])\n",
    "\n",
    "X_train, X_valid, y_train, y_valid = group_split(X, y, artists)\n",
    "\n",
    "X_train = preprocessor.fit_transform(X_train)\n",
    "X_valid = preprocessor.transform(X_valid)\n",
    "y_train = y_train / 100\n",
    "y_valid = y_valid / 100\n",
    "\n",
    "input_shape = [X_train.shape[1]]\n",
    "print(\"Input shape: {}\".format(input_shape))"
   ]
  },
  {
   "cell_type": "markdown",
   "id": "adb150ec",
   "metadata": {
    "papermill": {
     "duration": 0.006143,
     "end_time": "2022-07-24T12:22:44.851589",
     "exception": false,
     "start_time": "2022-07-24T12:22:44.845446",
     "status": "completed"
    },
    "tags": []
   },
   "source": [
    "# 1) Add Dropout to Spotify Model\n",
    "\n",
    "Here is the last model from Exercise 4. Add two dropout layers, one after the `Dense` layer with 128 units, and one after the `Dense` layer with 64 units. Set the dropout rate on both to `0.3`."
   ]
  },
  {
   "cell_type": "code",
   "execution_count": 3,
   "id": "7c8ee70f",
   "metadata": {
    "execution": {
     "iopub.execute_input": "2022-07-24T12:22:44.867051Z",
     "iopub.status.busy": "2022-07-24T12:22:44.865924Z",
     "iopub.status.idle": "2022-07-24T12:22:45.018707Z",
     "shell.execute_reply": "2022-07-24T12:22:45.016871Z"
    },
    "lines_to_next_cell": 2,
    "papermill": {
     "duration": 0.165052,
     "end_time": "2022-07-24T12:22:45.023049",
     "exception": false,
     "start_time": "2022-07-24T12:22:44.857997",
     "status": "completed"
    },
    "tags": []
   },
   "outputs": [
    {
     "name": "stderr",
     "output_type": "stream",
     "text": [
      "2022-07-24 12:22:44.921954: I tensorflow/core/common_runtime/process_util.cc:146] Creating new thread pool with default inter op setting: 2. Tune using inter_op_parallelism_threads for best performance.\n"
     ]
    },
    {
     "data": {
      "application/javascript": [
       "parent.postMessage({\"jupyterEvent\": \"custom.exercise_interaction\", \"data\": {\"outcomeType\": 1, \"valueTowardsCompletion\": 0.25, \"interactionType\": 1, \"questionType\": 2, \"questionId\": \"1_Q1\", \"learnToolsVersion\": \"0.3.4\", \"failureMessage\": \"\", \"exceptionClass\": \"\", \"trace\": \"\"}}, \"*\")"
      ],
      "text/plain": [
       "<IPython.core.display.Javascript object>"
      ]
     },
     "metadata": {},
     "output_type": "display_data"
    },
    {
     "data": {
      "text/markdown": [
       "<span style=\"color:#33cc33\">Correct</span>"
      ],
      "text/plain": [
       "Correct"
      ]
     },
     "metadata": {},
     "output_type": "display_data"
    }
   ],
   "source": [
    "# YOUR CODE HERE: Add two 30% dropout layers, one after 128 and one after 64\n",
    "\n",
    "\n",
    "model = keras.Sequential([\n",
    "    layers.Dense(128, activation='relu', input_shape=input_shape),\n",
    "    layers.Dropout(0.3),\n",
    "    layers.Dense(64, activation='relu'),\n",
    "    layers.Dropout(0.3),\n",
    "    layers.Dense(1)\n",
    "])\n",
    "# Check your answer\n",
    "q_1.check()"
   ]
  },
  {
   "cell_type": "markdown",
   "id": "db7746ec",
   "metadata": {
    "papermill": {
     "duration": 0.006444,
     "end_time": "2022-07-24T12:22:45.036354",
     "exception": false,
     "start_time": "2022-07-24T12:22:45.029910",
     "status": "completed"
    },
    "tags": []
   },
   "source": [
    "Now run this next cell to train the model see the effect of adding dropout."
   ]
  },
  {
   "cell_type": "code",
   "execution_count": 4,
   "id": "db7c037a",
   "metadata": {
    "execution": {
     "iopub.execute_input": "2022-07-24T12:22:45.052399Z",
     "iopub.status.busy": "2022-07-24T12:22:45.051267Z",
     "iopub.status.idle": "2022-07-24T12:23:02.206019Z",
     "shell.execute_reply": "2022-07-24T12:23:02.204587Z"
    },
    "papermill": {
     "duration": 17.165584,
     "end_time": "2022-07-24T12:23:02.208721",
     "exception": false,
     "start_time": "2022-07-24T12:22:45.043137",
     "status": "completed"
    },
    "tags": []
   },
   "outputs": [
    {
     "name": "stderr",
     "output_type": "stream",
     "text": [
      "2022-07-24 12:22:45.149913: I tensorflow/compiler/mlir/mlir_graph_optimization_pass.cc:185] None of the MLIR Optimization Passes are enabled (registered 2)\n"
     ]
    },
    {
     "name": "stdout",
     "output_type": "stream",
     "text": [
      "Minimum Validation Loss: 0.1901\n"
     ]
    },
    {
     "data": {
      "image/png": "[encoded data removed]",
      "text/plain": [
       "<Figure size 432x288 with 1 Axes>"
      ]
     },
     "metadata": {},
     "output_type": "display_data"
    }
   ],
   "source": [
    "model.compile(\n",
    "    optimizer='adam',\n",
    "    loss='mae',\n",
    ")\n",
    "history = model.fit(\n",
    "    X_train, y_train,\n",
    "    validation_data=(X_valid, y_valid),\n",
    "    batch_size=512,\n",
    "    epochs=50,\n",
    "    verbose=0,\n",
    ")\n",
    "history_df = pd.DataFrame(history.history)\n",
    "history_df.loc[:, ['loss', 'val_loss']].plot()\n",
    "print(\"Minimum Validation Loss: {:0.4f}\".format(history_df['val_loss'].min()))"
   ]
  },
  {
   "cell_type": "markdown",
   "id": "ca2a6a07",
   "metadata": {
    "papermill": {
     "duration": 0.006572,
     "end_time": "2022-07-24T12:23:02.222372",
     "exception": false,
     "start_time": "2022-07-24T12:23:02.215800",
     "status": "completed"
    },
    "tags": []
   },
   "source": [
    "# 2) Evaluate Dropout\n",
    "\n",
    "Recall from Exercise 4 that this model tended to overfit the data around epoch 5. Did adding dropout seem to help prevent overfitting this time?"
   ]
  },
  {
   "cell_type": "code",
   "execution_count": 5,
   "id": "d063fcfb",
   "metadata": {
    "execution": {
     "iopub.execute_input": "2022-07-24T12:23:02.238690Z",
     "iopub.status.busy": "2022-07-24T12:23:02.237463Z",
     "iopub.status.idle": "2022-07-24T12:23:02.245891Z",
     "shell.execute_reply": "2022-07-24T12:23:02.245153Z"
    },
    "papermill": {
     "duration": 0.020003,
     "end_time": "2022-07-24T12:23:02.249324",
     "exception": false,
     "start_time": "2022-07-24T12:23:02.229321",
     "status": "completed"
    },
    "tags": []
   },
   "outputs": [
    {
     "data": {
      "application/javascript": [
       "parent.postMessage({\"jupyterEvent\": \"custom.exercise_interaction\", \"data\": {\"outcomeType\": 1, \"valueTowardsCompletion\": 0.25, \"interactionType\": 1, \"questionType\": 4, \"questionId\": \"2_Q2\", \"learnToolsVersion\": \"0.3.4\", \"failureMessage\": \"\", \"exceptionClass\": \"\", \"trace\": \"\"}}, \"*\")"
      ],
      "text/plain": [
       "<IPython.core.display.Javascript object>"
      ]
     },
     "metadata": {},
     "output_type": "display_data"
    },
    {
     "data": {
      "text/markdown": [
       "<span style=\"color:#33cc33\">Correct:</span> \n",
       "\n",
       "\n",
       "From the learning curves, you can see that the validation loss remains near a constant minimum even though the training loss continues to decrease. So we can see that adding dropout did prevent overfitting this time. Moreover, by making it harder for the network to fit spurious patterns, dropout may have encouraged the network to seek out more of the true patterns, possibly improving the validation loss some as well).\n"
      ],
      "text/plain": [
       "Correct: \n",
       "\n",
       "\n",
       "From the learning curves, you can see that the validation loss remains near a constant minimum even though the training loss continues to decrease. So we can see that adding dropout did prevent overfitting this time. Moreover, by making it harder for the network to fit spurious patterns, dropout may have encouraged the network to seek out more of the true patterns, possibly improving the validation loss some as well)."
      ]
     },
     "metadata": {},
     "output_type": "display_data"
    }
   ],
   "source": [
    "# View the solution (Run this cell to receive credit!)\n",
    "q_2.check()"
   ]
  },
  {
   "cell_type": "markdown",
   "id": "3a5223d1",
   "metadata": {
    "papermill": {
     "duration": 0.007109,
     "end_time": "2022-07-24T12:23:02.263819",
     "exception": false,
     "start_time": "2022-07-24T12:23:02.256710",
     "status": "completed"
    },
    "tags": []
   },
   "source": [
    "Now, we'll switch topics to explore how batch normalization can fix problems in training.\n",
    "\n",
    "Load the *Concrete* dataset. We won't do any standardization this time. This will make the effect of batch normalization much more apparent."
   ]
  },
  {
   "cell_type": "code",
   "execution_count": 6,
   "id": "72c4c33b",
   "metadata": {
    "execution": {
     "iopub.execute_input": "2022-07-24T12:23:02.280842Z",
     "iopub.status.busy": "2022-07-24T12:23:02.280387Z",
     "iopub.status.idle": "2022-07-24T12:23:02.303177Z",
     "shell.execute_reply": "2022-07-24T12:23:02.302096Z"
    },
    "papermill": {
     "duration": 0.034786,
     "end_time": "2022-07-24T12:23:02.306078",
     "exception": false,
     "start_time": "2022-07-24T12:23:02.271292",
     "status": "completed"
    },
    "tags": []
   },
   "outputs": [],
   "source": [
    "import pandas as pd\n",
    "\n",
    "concrete = pd.read_csv('../input/dl-course-data/concrete.csv')\n",
    "df = concrete.copy()\n",
    "\n",
    "df_train = df.sample(frac=0.7, random_state=0)\n",
    "df_valid = df.drop(df_train.index)\n",
    "\n",
    "X_train = df_train.drop('CompressiveStrength', axis=1)\n",
    "X_valid = df_valid.drop('CompressiveStrength', axis=1)\n",
    "y_train = df_train['CompressiveStrength']\n",
    "y_valid = df_valid['CompressiveStrength']\n",
    "\n",
    "input_shape = [X_train.shape[1]]"
   ]
  },
  {
   "cell_type": "markdown",
   "id": "2a924b3c",
   "metadata": {
    "papermill": {
     "duration": 0.007252,
     "end_time": "2022-07-24T12:23:02.321034",
     "exception": false,
     "start_time": "2022-07-24T12:23:02.313782",
     "status": "completed"
    },
    "tags": []
   },
   "source": [
    "Run the following cell to train the network on the unstandardized *Concrete* data."
   ]
  },
  {
   "cell_type": "code",
   "execution_count": 7,
   "id": "e359aada",
   "metadata": {
    "execution": {
     "iopub.execute_input": "2022-07-24T12:23:02.339750Z",
     "iopub.status.busy": "2022-07-24T12:23:02.338200Z",
     "iopub.status.idle": "2022-07-24T12:23:16.273502Z",
     "shell.execute_reply": "2022-07-24T12:23:16.271910Z"
    },
    "papermill": {
     "duration": 13.947854,
     "end_time": "2022-07-24T12:23:16.276468",
     "exception": false,
     "start_time": "2022-07-24T12:23:02.328614",
     "status": "completed"
    },
    "tags": []
   },
   "outputs": [
    {
     "name": "stdout",
     "output_type": "stream",
     "text": [
      "Minimum Validation Loss: nan\n"
     ]
    },
    {
     "data": {
      "image/png": "[encoded data removed]",
      "text/plain": [
       "<Figure size 432x288 with 1 Axes>"
      ]
     },
     "metadata": {},
     "output_type": "display_data"
    }
   ],
   "source": [
    "model = keras.Sequential([\n",
    "    layers.Dense(512, activation='relu', input_shape=input_shape),\n",
    "    layers.Dense(512, activation='relu'),    \n",
    "    layers.Dense(512, activation='relu'),\n",
    "    layers.Dense(1),\n",
    "])\n",
    "model.compile(\n",
    "    optimizer='sgd', # SGD is more sensitive to differences of scale\n",
    "    loss='mae',\n",
    "    metrics=['mae'],\n",
    ")\n",
    "history = model.fit(\n",
    "    X_train, y_train,\n",
    "    validation_data=(X_valid, y_valid),\n",
    "    batch_size=64,\n",
    "    epochs=100,\n",
    "    verbose=0,\n",
    ")\n",
    "\n",
    "history_df = pd.DataFrame(history.history)\n",
    "history_df.loc[0:, ['loss', 'val_loss']].plot()\n",
    "print((\"Minimum Validation Loss: {:0.4f}\").format(history_df['val_loss'].min()))"
   ]
  },
  {
   "cell_type": "markdown",
   "id": "f2993ae7",
   "metadata": {
    "papermill": {
     "duration": 0.007523,
     "end_time": "2022-07-24T12:23:16.292455",
     "exception": false,
     "start_time": "2022-07-24T12:23:16.284932",
     "status": "completed"
    },
    "tags": []
   },
   "source": [
    "Did you end up with a blank graph? Trying to train this network on this dataset will usually fail. Even when it does converge (due to a lucky weight initialization), it tends to converge to a very large number.\n",
    "\n",
    "# 3) Add Batch Normalization Layers\n",
    "\n",
    "Batch normalization can help correct problems like this.\n",
    "\n",
    "Add four `BatchNormalization` layers, one before each of the dense layers. (Remember to move the `input_shape` argument to the new first layer.)"
   ]
  },
  {
   "cell_type": "code",
   "execution_count": 8,
   "id": "d18a239d",
   "metadata": {
    "execution": {
     "iopub.execute_input": "2022-07-24T12:23:16.311233Z",
     "iopub.status.busy": "2022-07-24T12:23:16.310397Z",
     "iopub.status.idle": "2022-07-24T12:23:16.420655Z",
     "shell.execute_reply": "2022-07-24T12:23:16.419361Z"
    },
    "lines_to_next_cell": 0,
    "papermill": {
     "duration": 0.122331,
     "end_time": "2022-07-24T12:23:16.423460",
     "exception": false,
     "start_time": "2022-07-24T12:23:16.301129",
     "status": "completed"
    },
    "tags": []
   },
   "outputs": [
    {
     "data": {
      "application/javascript": [
       "parent.postMessage({\"jupyterEvent\": \"custom.exercise_interaction\", \"data\": {\"outcomeType\": 1, \"valueTowardsCompletion\": 0.25, \"interactionType\": 1, \"questionType\": 2, \"questionId\": \"3_Q3\", \"learnToolsVersion\": \"0.3.4\", \"failureMessage\": \"\", \"exceptionClass\": \"\", \"trace\": \"\"}}, \"*\")"
      ],
      "text/plain": [
       "<IPython.core.display.Javascript object>"
      ]
     },
     "metadata": {},
     "output_type": "display_data"
    },
    {
     "data": {
      "text/markdown": [
       "<span style=\"color:#33cc33\">Correct</span>"
      ],
      "text/plain": [
       "Correct"
      ]
     },
     "metadata": {},
     "output_type": "display_data"
    }
   ],
   "source": [
    "# YOUR CODE HERE: Add a BatchNormalization layer before each Dense layer\n",
    "\n",
    "\n",
    "model = keras.Sequential([\n",
    "    layers.BatchNormalization(input_shape=input_shape),\n",
    "    layers.Dense(512, activation='relu'),\n",
    "    layers.BatchNormalization(),\n",
    "    layers.Dense(512, activation='relu'),\n",
    "    layers.BatchNormalization(),\n",
    "    layers.Dense(512, activation='relu'),\n",
    "    layers.BatchNormalization(),\n",
    "    layers.Dense(1),\n",
    "])\n",
    "# Check your answer\n",
    "q_3.check()"
   ]
  },
  {
   "cell_type": "markdown",
   "id": "ed1cc948",
   "metadata": {
    "papermill": {
     "duration": 0.007834,
     "end_time": "2022-07-24T12:23:16.439581",
     "exception": false,
     "start_time": "2022-07-24T12:23:16.431747",
     "status": "completed"
    },
    "tags": []
   },
   "source": [
    "Run the next cell to see if batch normalization will let us train the model."
   ]
  },
  {
   "cell_type": "code",
   "execution_count": 9,
   "id": "bc8c6985",
   "metadata": {
    "execution": {
     "iopub.execute_input": "2022-07-24T12:23:16.458234Z",
     "iopub.status.busy": "2022-07-24T12:23:16.457846Z",
     "iopub.status.idle": "2022-07-24T12:23:32.854670Z",
     "shell.execute_reply": "2022-07-24T12:23:32.852707Z"
    },
    "papermill": {
     "duration": 16.409529,
     "end_time": "2022-07-24T12:23:32.857383",
     "exception": false,
     "start_time": "2022-07-24T12:23:16.447854",
     "status": "completed"
    },
    "tags": []
   },
   "outputs": [
    {
     "name": "stdout",
     "output_type": "stream",
     "text": [
      "Minimum Validation Loss: 3.8418\n"
     ]
    },
    {
     "data": {
      "image/png": "[encoded data removed]",
      "text/plain": [
       "<Figure size 432x288 with 1 Axes>"
      ]
     },
     "metadata": {},
     "output_type": "display_data"
    }
   ],
   "source": [
    "model.compile(\n",
    "    optimizer='sgd',\n",
    "    loss='mae',\n",
    "    metrics=['mae'],\n",
    ")\n",
    "EPOCHS = 100\n",
    "history = model.fit(\n",
    "    X_train, y_train,\n",
    "    validation_data=(X_valid, y_valid),\n",
    "    batch_size=64,\n",
    "    epochs=EPOCHS,\n",
    "    verbose=0,\n",
    ")\n",
    "\n",
    "history_df = pd.DataFrame(history.history)\n",
    "history_df.loc[0:, ['loss', 'val_loss']].plot()\n",
    "print((\"Minimum Validation Loss: {:0.4f}\").format(history_df['val_loss'].min()))"
   ]
  },
  {
   "cell_type": "markdown",
   "id": "d42a7363",
   "metadata": {
    "papermill": {
     "duration": 0.008132,
     "end_time": "2022-07-24T12:23:32.873973",
     "exception": false,
     "start_time": "2022-07-24T12:23:32.865841",
     "status": "completed"
    },
    "tags": []
   },
   "source": [
    "# 4) Evaluate Batch Normalization\n",
    "\n",
    "Did adding batch normalization help?"
   ]
  },
  {
   "cell_type": "code",
   "execution_count": 10,
   "id": "ca66c6bc",
   "metadata": {
    "execution": {
     "iopub.execute_input": "2022-07-24T12:23:32.892738Z",
     "iopub.status.busy": "2022-07-24T12:23:32.892314Z",
     "iopub.status.idle": "2022-07-24T12:23:32.902315Z",
     "shell.execute_reply": "2022-07-24T12:23:32.900981Z"
    },
    "lines_to_next_cell": 0,
    "papermill": {
     "duration": 0.02236,
     "end_time": "2022-07-24T12:23:32.904772",
     "exception": false,
     "start_time": "2022-07-24T12:23:32.882412",
     "status": "completed"
    },
    "tags": []
   },
   "outputs": [
    {
     "data": {
      "application/javascript": [
       "parent.postMessage({\"jupyterEvent\": \"custom.exercise_interaction\", \"data\": {\"outcomeType\": 1, \"valueTowardsCompletion\": 0.25, \"interactionType\": 1, \"questionType\": 4, \"questionId\": \"4_Q4\", \"learnToolsVersion\": \"0.3.4\", \"failureMessage\": \"\", \"exceptionClass\": \"\", \"trace\": \"\"}}, \"*\")"
      ],
      "text/plain": [
       "<IPython.core.display.Javascript object>"
      ]
     },
     "metadata": {},
     "output_type": "display_data"
    },
    {
     "data": {
      "text/markdown": [
       "<span style=\"color:#33cc33\">Correct:</span> \n",
       "\n",
       "\n",
       "You can see that adding batch normalization was a big improvement on the first attempt! By adaptively scaling the data as it passes through the network, batch normalization can let you train models on difficult datasets.\n"
      ],
      "text/plain": [
       "Correct: \n",
       "\n",
       "\n",
       "You can see that adding batch normalization was a big improvement on the first attempt! By adaptively scaling the data as it passes through the network, batch normalization can let you train models on difficult datasets."
      ]
     },
     "metadata": {},
     "output_type": "display_data"
    }
   ],
   "source": [
    "# View the solution (Run this cell to receive credit!)\n",
    "q_4.check()"
   ]
  },
  {
   "cell_type": "markdown",
   "id": "def28f3d",
   "metadata": {
    "papermill": {
     "duration": 0.008538,
     "end_time": "2022-07-24T12:23:32.921742",
     "exception": false,
     "start_time": "2022-07-24T12:23:32.913204",
     "status": "completed"
    },
    "tags": []
   },
   "source": [
    "# Keep Going #\n",
    "\n",
    "[**Create neural networks**](https://www.kaggle.com/ryanholbrook/binary-classification) for binary classification."
   ]
  },
  {
   "cell_type": "markdown",
   "id": "44b3dc0e",
   "metadata": {
    "papermill": {
     "duration": 0.008474,
     "end_time": "2022-07-24T12:23:32.939094",
     "exception": false,
     "start_time": "2022-07-24T12:23:32.930620",
     "status": "completed"
    },
    "tags": []
   },
   "source": [
    "---\n",
    "\n",
    "\n",
    "\n",
    "\n",
    "*Have questions or comments? Visit the [course discussion forum](https://www.kaggle.com/learn/intro-to-deep-learning/discussion) to chat with other learners.*"
   ]
  }
 ],
 "metadata": {
  "kernelspec": {
   "display_name": "Python 3",
   "language": "python",
   "name": "python3"
  },
  "language_info": {
   "codemirror_mode": {
    "name": "ipython",
    "version": 3
   },
   "file_extension": ".py",
   "mimetype": "text/x-python",
   "name": "python",
   "nbconvert_exporter": "python",
   "pygments_lexer": "ipython3",
   "version": "3.7.12"
  },
  "papermill": {
   "default_parameters": {},
   "duration": 70.932906,
   "end_time": "2022-07-24T12:23:35.674704",
   "environment_variables": {},
   "exception": null,
   "input_path": "__notebook__.ipynb",
   "output_path": "__notebook__.ipynb",
   "parameters": {},
   "start_time": "2022-07-24T12:22:24.741798",
   "version": "2.3.4"
  }
 },
 "nbformat": 4,
 "nbformat_minor": 5
}
