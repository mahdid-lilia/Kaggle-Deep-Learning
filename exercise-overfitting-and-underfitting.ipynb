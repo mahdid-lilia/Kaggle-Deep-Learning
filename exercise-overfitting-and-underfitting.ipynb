{
 "cells": [
  {
   "cell_type": "markdown",
   "id": "7c0369b6",
   "metadata": {
    "papermill": {
     "duration": 0.006093,
     "end_time": "2022-07-24T12:13:31.331012",
     "exception": false,
     "start_time": "2022-07-24T12:13:31.324919",
     "status": "completed"
    },
    "tags": []
   },
   "source": [
    "**This notebook is an exercise in the [Intro to Deep Learning](https://www.kaggle.com/learn/intro-to-deep-learning) course.  You can reference the tutorial at [this link](https://www.kaggle.com/ryanholbrook/overfitting-and-underfitting).**\n",
    "\n",
    "---\n"
   ]
  },
  {
   "cell_type": "markdown",
   "id": "f98ea4f6",
   "metadata": {
    "papermill": {
     "duration": 0.004218,
     "end_time": "2022-07-24T12:13:31.340010",
     "exception": false,
     "start_time": "2022-07-24T12:13:31.335792",
     "status": "completed"
    },
    "tags": []
   },
   "source": [
    "# Introduction #\n",
    "\n",
    "In this exercise, you’ll learn how to improve training outcomes by including an early stopping callback to prevent overfitting.\n",
    "\n",
    "When you're ready, run this next cell to set everything up!"
   ]
  },
  {
   "cell_type": "code",
   "execution_count": 1,
   "id": "6b94d9c9",
   "metadata": {
    "execution": {
     "iopub.execute_input": "2022-07-24T12:13:31.351479Z",
     "iopub.status.busy": "2022-07-24T12:13:31.350669Z",
     "iopub.status.idle": "2022-07-24T12:13:31.415149Z",
     "shell.execute_reply": "2022-07-24T12:13:31.413699Z"
    },
    "papermill": {
     "duration": 0.073445,
     "end_time": "2022-07-24T12:13:31.418052",
     "exception": false,
     "start_time": "2022-07-24T12:13:31.344607",
     "status": "completed"
    },
    "tags": []
   },
   "outputs": [],
   "source": [
    "# Setup plotting\n",
    "import matplotlib.pyplot as plt\n",
    "plt.style.use('seaborn-whitegrid')\n",
    "# Set Matplotlib defaults\n",
    "plt.rc('figure', autolayout=True)\n",
    "plt.rc('axes', labelweight='bold', labelsize='large',\n",
    "       titleweight='bold', titlesize=18, titlepad=10)\n",
    "plt.rc('animation', html='html5')\n",
    "\n",
    "# Setup feedback system\n",
    "from learntools.core import binder\n",
    "binder.bind(globals())\n",
    "from learntools.deep_learning_intro.ex4 import *"
   ]
  },
  {
   "cell_type": "markdown",
   "id": "90a12527",
   "metadata": {
    "papermill": {
     "duration": 0.00467,
     "end_time": "2022-07-24T12:13:31.427510",
     "exception": false,
     "start_time": "2022-07-24T12:13:31.422840",
     "status": "completed"
    },
    "tags": []
   },
   "source": [
    "First load the *Spotify* dataset. Your task will be to predict the popularity of a song based on various audio features, like `'tempo'`, `'danceability'`, and `'mode'`."
   ]
  },
  {
   "cell_type": "code",
   "execution_count": 2,
   "id": "b5203920",
   "metadata": {
    "execution": {
     "iopub.execute_input": "2022-07-24T12:13:31.438559Z",
     "iopub.status.busy": "2022-07-24T12:13:31.438177Z",
     "iopub.status.idle": "2022-07-24T12:13:39.985482Z",
     "shell.execute_reply": "2022-07-24T12:13:39.983934Z"
    },
    "papermill": {
     "duration": 8.556203,
     "end_time": "2022-07-24T12:13:39.988377",
     "exception": false,
     "start_time": "2022-07-24T12:13:31.432174",
     "status": "completed"
    },
    "tags": []
   },
   "outputs": [
    {
     "name": "stdout",
     "output_type": "stream",
     "text": [
      "Input shape: [18]\n"
     ]
    }
   ],
   "source": [
    "import pandas as pd\n",
    "from sklearn.preprocessing import StandardScaler, OneHotEncoder\n",
    "from sklearn.compose import make_column_transformer\n",
    "from sklearn.model_selection import GroupShuffleSplit\n",
    "\n",
    "from tensorflow import keras\n",
    "from tensorflow.keras import layers\n",
    "from tensorflow.keras import callbacks\n",
    "\n",
    "spotify = pd.read_csv('../input/dl-course-data/spotify.csv')\n",
    "\n",
    "X = spotify.copy().dropna()\n",
    "y = X.pop('track_popularity')\n",
    "artists = X['track_artist']\n",
    "\n",
    "features_num = ['danceability', 'energy', 'key', 'loudness', 'mode',\n",
    "                'speechiness', 'acousticness', 'instrumentalness',\n",
    "                'liveness', 'valence', 'tempo', 'duration_ms']\n",
    "features_cat = ['playlist_genre']\n",
    "\n",
    "preprocessor = make_column_transformer(\n",
    "    (StandardScaler(), features_num),\n",
    "    (OneHotEncoder(), features_cat),\n",
    ")\n",
    "\n",
    "# We'll do a \"grouped\" split to keep all of an artist's songs in one\n",
    "# split or the other. This is to help prevent signal leakage.\n",
    "def group_split(X, y, group, train_size=0.75):\n",
    "    splitter = GroupShuffleSplit(train_size=train_size)\n",
    "    train, test = next(splitter.split(X, y, groups=group))\n",
    "    return (X.iloc[train], X.iloc[test], y.iloc[train], y.iloc[test])\n",
    "\n",
    "X_train, X_valid, y_train, y_valid = group_split(X, y, artists)\n",
    "\n",
    "X_train = preprocessor.fit_transform(X_train)\n",
    "X_valid = preprocessor.transform(X_valid)\n",
    "y_train = y_train / 100 # popularity is on a scale 0-100, so this rescales to 0-1.\n",
    "y_valid = y_valid / 100\n",
    "\n",
    "input_shape = [X_train.shape[1]]\n",
    "print(\"Input shape: {}\".format(input_shape))"
   ]
  },
  {
   "cell_type": "markdown",
   "id": "15bd28b3",
   "metadata": {
    "papermill": {
     "duration": 0.004611,
     "end_time": "2022-07-24T12:13:39.998331",
     "exception": false,
     "start_time": "2022-07-24T12:13:39.993720",
     "status": "completed"
    },
    "tags": []
   },
   "source": [
    "Let's start with the simplest network, a linear model. This model has low capacity.\n",
    "\n",
    "Run this next cell without any changes to train a linear model on the *Spotify* dataset."
   ]
  },
  {
   "cell_type": "code",
   "execution_count": 3,
   "id": "9b18de6d",
   "metadata": {
    "execution": {
     "iopub.execute_input": "2022-07-24T12:13:40.010759Z",
     "iopub.status.busy": "2022-07-24T12:13:40.010363Z",
     "iopub.status.idle": "2022-07-24T12:13:45.969479Z",
     "shell.execute_reply": "2022-07-24T12:13:45.968393Z"
    },
    "lines_to_next_cell": 0,
    "papermill": {
     "duration": 5.968807,
     "end_time": "2022-07-24T12:13:45.972104",
     "exception": false,
     "start_time": "2022-07-24T12:13:40.003297",
     "status": "completed"
    },
    "tags": []
   },
   "outputs": [
    {
     "name": "stderr",
     "output_type": "stream",
     "text": [
      "2022-07-24 12:13:40.052267: I tensorflow/core/common_runtime/process_util.cc:146] Creating new thread pool with default inter op setting: 2. Tune using inter_op_parallelism_threads for best performance.\n",
      "2022-07-24 12:13:40.207309: I tensorflow/compiler/mlir/mlir_graph_optimization_pass.cc:185] None of the MLIR Optimization Passes are enabled (registered 2)\n"
     ]
    },
    {
     "name": "stdout",
     "output_type": "stream",
     "text": [
      "Minimum Validation Loss: 0.1942\n"
     ]
    },
    {
     "data": {
      "image/png": "[encoded data removed]",
      "text/plain": [
       "<Figure size 432x288 with 1 Axes>"
      ]
     },
     "metadata": {},
     "output_type": "display_data"
    }
   ],
   "source": [
    "model = keras.Sequential([\n",
    "    layers.Dense(1, input_shape=input_shape),\n",
    "])\n",
    "model.compile(\n",
    "    optimizer='adam',\n",
    "    loss='mae',\n",
    ")\n",
    "history = model.fit(\n",
    "    X_train, y_train,\n",
    "    validation_data=(X_valid, y_valid),\n",
    "    batch_size=512,\n",
    "    epochs=50,\n",
    "    verbose=0, # suppress output since we'll plot the curves\n",
    ")\n",
    "history_df = pd.DataFrame(history.history)\n",
    "history_df.loc[0:, ['loss', 'val_loss']].plot()\n",
    "print(\"Minimum Validation Loss: {:0.4f}\".format(history_df['val_loss'].min()));"
   ]
  },
  {
   "cell_type": "markdown",
   "id": "4335a632",
   "metadata": {
    "papermill": {
     "duration": 0.004773,
     "end_time": "2022-07-24T12:13:45.982246",
     "exception": false,
     "start_time": "2022-07-24T12:13:45.977473",
     "status": "completed"
    },
    "tags": []
   },
   "source": [
    "It's not uncommon for the curves to follow a \"hockey stick\" pattern like you see here. This makes the final part of training hard to see, so let's start at epoch 10 instead:"
   ]
  },
  {
   "cell_type": "code",
   "execution_count": 4,
   "id": "191220ec",
   "metadata": {
    "execution": {
     "iopub.execute_input": "2022-07-24T12:13:45.995219Z",
     "iopub.status.busy": "2022-07-24T12:13:45.994448Z",
     "iopub.status.idle": "2022-07-24T12:13:46.167592Z",
     "shell.execute_reply": "2022-07-24T12:13:46.166455Z"
    },
    "papermill": {
     "duration": 0.182389,
     "end_time": "2022-07-24T12:13:46.169834",
     "exception": false,
     "start_time": "2022-07-24T12:13:45.987445",
     "status": "completed"
    },
    "tags": []
   },
   "outputs": [
    {
     "name": "stdout",
     "output_type": "stream",
     "text": [
      "Minimum Validation Loss: 0.1942\n"
     ]
    },
    {
     "data": {
      "image/png": "[encoded data removed]",
      "text/plain": [
       "<Figure size 432x288 with 1 Axes>"
      ]
     },
     "metadata": {},
     "output_type": "display_data"
    }
   ],
   "source": [
    "# Start the plot at epoch 10\n",
    "history_df.loc[10:, ['loss', 'val_loss']].plot()\n",
    "print(\"Minimum Validation Loss: {:0.4f}\".format(history_df['val_loss'].min()));"
   ]
  },
  {
   "cell_type": "markdown",
   "id": "51793144",
   "metadata": {
    "papermill": {
     "duration": 0.005651,
     "end_time": "2022-07-24T12:13:46.181424",
     "exception": false,
     "start_time": "2022-07-24T12:13:46.175773",
     "status": "completed"
    },
    "tags": []
   },
   "source": [
    "# 1) Evaluate Baseline\n",
    "\n",
    "What do you think? Would you say this model is underfitting, overfitting, just right?"
   ]
  },
  {
   "cell_type": "code",
   "execution_count": 5,
   "id": "7f23bc73",
   "metadata": {
    "execution": {
     "iopub.execute_input": "2022-07-24T12:13:46.194867Z",
     "iopub.status.busy": "2022-07-24T12:13:46.194217Z",
     "iopub.status.idle": "2022-07-24T12:13:46.203262Z",
     "shell.execute_reply": "2022-07-24T12:13:46.202179Z"
    },
    "papermill": {
     "duration": 0.01839,
     "end_time": "2022-07-24T12:13:46.205539",
     "exception": false,
     "start_time": "2022-07-24T12:13:46.187149",
     "status": "completed"
    },
    "tags": []
   },
   "outputs": [
    {
     "data": {
      "application/javascript": [
       "parent.postMessage({\"jupyterEvent\": \"custom.exercise_interaction\", \"data\": {\"outcomeType\": 1, \"valueTowardsCompletion\": 0.25, \"interactionType\": 1, \"questionType\": 4, \"questionId\": \"1_Q1\", \"learnToolsVersion\": \"0.3.4\", \"failureMessage\": \"\", \"exceptionClass\": \"\", \"trace\": \"\"}}, \"*\")"
      ],
      "text/plain": [
       "<IPython.core.display.Javascript object>"
      ]
     },
     "metadata": {},
     "output_type": "display_data"
    },
    {
     "data": {
      "text/markdown": [
       "<span style=\"color:#33cc33\">Correct:</span> \n",
       "\n",
       "The gap between these curves is quite small and the validation loss never increases, so it's more likely that the network is underfitting than overfitting. It would be worth experimenting with more capacity to see if that's the case."
      ],
      "text/plain": [
       "Correct: \n",
       "\n",
       "The gap between these curves is quite small and the validation loss never increases, so it's more likely that the network is underfitting than overfitting. It would be worth experimenting with more capacity to see if that's the case."
      ]
     },
     "metadata": {},
     "output_type": "display_data"
    }
   ],
   "source": [
    "# View the solution (Run this cell to receive credit!)\n",
    "q_1.check()"
   ]
  },
  {
   "cell_type": "markdown",
   "id": "08c4411e",
   "metadata": {
    "papermill": {
     "duration": 0.005744,
     "end_time": "2022-07-24T12:13:46.217220",
     "exception": false,
     "start_time": "2022-07-24T12:13:46.211476",
     "status": "completed"
    },
    "tags": []
   },
   "source": [
    "Now let's add some capacity to our network. We'll add three hidden layers with 128 units each. Run the next cell to train the network and see the learning curves."
   ]
  },
  {
   "cell_type": "code",
   "execution_count": 6,
   "id": "90bc552d",
   "metadata": {
    "execution": {
     "iopub.execute_input": "2022-07-24T12:13:46.231420Z",
     "iopub.status.busy": "2022-07-24T12:13:46.230604Z",
     "iopub.status.idle": "2022-07-24T12:13:55.642746Z",
     "shell.execute_reply": "2022-07-24T12:13:55.641185Z"
    },
    "papermill": {
     "duration": 9.42348,
     "end_time": "2022-07-24T12:13:55.646654",
     "exception": false,
     "start_time": "2022-07-24T12:13:46.223174",
     "status": "completed"
    },
    "tags": []
   },
   "outputs": [
    {
     "name": "stdout",
     "output_type": "stream",
     "text": [
      "Epoch 1/50\n",
      "48/48 [==============================] - 1s 6ms/step - loss: 0.2337 - val_loss: 0.2078\n",
      "Epoch 2/50\n",
      "48/48 [==============================] - 0s 3ms/step - loss: 0.2009 - val_loss: 0.1999\n",
      "Epoch 3/50\n",
      "48/48 [==============================] - 0s 3ms/step - loss: 0.1959 - val_loss: 0.1985\n",
      "Epoch 4/50\n",
      "48/48 [==============================] - 0s 3ms/step - loss: 0.1922 - val_loss: 0.1966\n",
      "Epoch 5/50\n",
      "48/48 [==============================] - 0s 4ms/step - loss: 0.1904 - val_loss: 0.1969\n",
      "Epoch 6/50\n",
      "48/48 [==============================] - 0s 3ms/step - loss: 0.1891 - val_loss: 0.1969\n",
      "Epoch 7/50\n",
      "48/48 [==============================] - 0s 3ms/step - loss: 0.1886 - val_loss: 0.1984\n",
      "Epoch 8/50\n",
      "48/48 [==============================] - 0s 3ms/step - loss: 0.1868 - val_loss: 0.1952\n",
      "Epoch 9/50\n",
      "48/48 [==============================] - 0s 3ms/step - loss: 0.1857 - val_loss: 0.1967\n",
      "Epoch 10/50\n",
      "48/48 [==============================] - 0s 4ms/step - loss: 0.1845 - val_loss: 0.1967\n",
      "Epoch 11/50\n",
      "48/48 [==============================] - 0s 3ms/step - loss: 0.1843 - val_loss: 0.1951\n",
      "Epoch 12/50\n",
      "48/48 [==============================] - 0s 5ms/step - loss: 0.1828 - val_loss: 0.1963\n",
      "Epoch 13/50\n",
      "48/48 [==============================] - 0s 4ms/step - loss: 0.1822 - val_loss: 0.2004\n",
      "Epoch 14/50\n",
      "48/48 [==============================] - 0s 4ms/step - loss: 0.1824 - val_loss: 0.1975\n",
      "Epoch 15/50\n",
      "48/48 [==============================] - 0s 4ms/step - loss: 0.1813 - val_loss: 0.1957\n",
      "Epoch 16/50\n",
      "48/48 [==============================] - 0s 4ms/step - loss: 0.1808 - val_loss: 0.1971\n",
      "Epoch 17/50\n",
      "48/48 [==============================] - 0s 4ms/step - loss: 0.1803 - val_loss: 0.1980\n",
      "Epoch 18/50\n",
      "48/48 [==============================] - 0s 4ms/step - loss: 0.1794 - val_loss: 0.1991\n",
      "Epoch 19/50\n",
      "48/48 [==============================] - 0s 3ms/step - loss: 0.1790 - val_loss: 0.1969\n",
      "Epoch 20/50\n",
      "48/48 [==============================] - 0s 3ms/step - loss: 0.1789 - val_loss: 0.1990\n",
      "Epoch 21/50\n",
      "48/48 [==============================] - 0s 4ms/step - loss: 0.1781 - val_loss: 0.1967\n",
      "Epoch 22/50\n",
      "48/48 [==============================] - 0s 4ms/step - loss: 0.1776 - val_loss: 0.1979\n",
      "Epoch 23/50\n",
      "48/48 [==============================] - 0s 4ms/step - loss: 0.1766 - val_loss: 0.1978\n",
      "Epoch 24/50\n",
      "48/48 [==============================] - 0s 4ms/step - loss: 0.1761 - val_loss: 0.1981\n",
      "Epoch 25/50\n",
      "48/48 [==============================] - 0s 3ms/step - loss: 0.1755 - val_loss: 0.1985\n",
      "Epoch 26/50\n",
      "48/48 [==============================] - 0s 3ms/step - loss: 0.1754 - val_loss: 0.1987\n",
      "Epoch 27/50\n",
      "48/48 [==============================] - 0s 4ms/step - loss: 0.1749 - val_loss: 0.1994\n",
      "Epoch 28/50\n",
      "48/48 [==============================] - 0s 4ms/step - loss: 0.1741 - val_loss: 0.1987\n",
      "Epoch 29/50\n",
      "48/48 [==============================] - 0s 3ms/step - loss: 0.1747 - val_loss: 0.1987\n",
      "Epoch 30/50\n",
      "48/48 [==============================] - 0s 3ms/step - loss: 0.1741 - val_loss: 0.2029\n",
      "Epoch 31/50\n",
      "48/48 [==============================] - 0s 3ms/step - loss: 0.1735 - val_loss: 0.2001\n",
      "Epoch 32/50\n",
      "48/48 [==============================] - 0s 3ms/step - loss: 0.1720 - val_loss: 0.1998\n",
      "Epoch 33/50\n",
      "48/48 [==============================] - 0s 5ms/step - loss: 0.1726 - val_loss: 0.2004\n",
      "Epoch 34/50\n",
      "48/48 [==============================] - 0s 3ms/step - loss: 0.1719 - val_loss: 0.1999\n",
      "Epoch 35/50\n",
      "48/48 [==============================] - 0s 3ms/step - loss: 0.1715 - val_loss: 0.1992\n",
      "Epoch 36/50\n",
      "48/48 [==============================] - 0s 3ms/step - loss: 0.1707 - val_loss: 0.1997\n",
      "Epoch 37/50\n",
      "48/48 [==============================] - 0s 4ms/step - loss: 0.1703 - val_loss: 0.1992\n",
      "Epoch 38/50\n",
      "48/48 [==============================] - 0s 4ms/step - loss: 0.1698 - val_loss: 0.2012\n",
      "Epoch 39/50\n",
      "48/48 [==============================] - 0s 3ms/step - loss: 0.1692 - val_loss: 0.1995\n",
      "Epoch 40/50\n",
      "48/48 [==============================] - 0s 3ms/step - loss: 0.1698 - val_loss: 0.2012\n",
      "Epoch 41/50\n",
      "48/48 [==============================] - 0s 4ms/step - loss: 0.1695 - val_loss: 0.2016\n",
      "Epoch 42/50\n",
      "48/48 [==============================] - 0s 3ms/step - loss: 0.1680 - val_loss: 0.2013\n",
      "Epoch 43/50\n",
      "48/48 [==============================] - 0s 3ms/step - loss: 0.1679 - val_loss: 0.2016\n",
      "Epoch 44/50\n",
      "48/48 [==============================] - 0s 3ms/step - loss: 0.1671 - val_loss: 0.2019\n",
      "Epoch 45/50\n",
      "48/48 [==============================] - 0s 4ms/step - loss: 0.1673 - val_loss: 0.2016\n",
      "Epoch 46/50\n",
      "48/48 [==============================] - 0s 4ms/step - loss: 0.1664 - val_loss: 0.2024\n",
      "Epoch 47/50\n",
      "48/48 [==============================] - 0s 4ms/step - loss: 0.1663 - val_loss: 0.2020\n",
      "Epoch 48/50\n",
      "48/48 [==============================] - 0s 4ms/step - loss: 0.1667 - val_loss: 0.2031\n",
      "Epoch 49/50\n",
      "48/48 [==============================] - 0s 4ms/step - loss: 0.1658 - val_loss: 0.2016\n",
      "Epoch 50/50\n",
      "48/48 [==============================] - 0s 3ms/step - loss: 0.1653 - val_loss: 0.2033\n",
      "Minimum Validation Loss: 0.1951\n"
     ]
    },
    {
     "data": {
      "image/png": "[encoded data removed]",
      "text/plain": [
       "<Figure size 432x288 with 1 Axes>"
      ]
     },
     "metadata": {},
     "output_type": "display_data"
    }
   ],
   "source": [
    "model = keras.Sequential([\n",
    "    layers.Dense(128, activation='relu', input_shape=input_shape),\n",
    "    layers.Dense(64, activation='relu'),\n",
    "    layers.Dense(1)\n",
    "])\n",
    "model.compile(\n",
    "    optimizer='adam',\n",
    "    loss='mae',\n",
    ")\n",
    "history = model.fit(\n",
    "    X_train, y_train,\n",
    "    validation_data=(X_valid, y_valid),\n",
    "    batch_size=512,\n",
    "    epochs=50,\n",
    ")\n",
    "history_df = pd.DataFrame(history.history)\n",
    "history_df.loc[:, ['loss', 'val_loss']].plot()\n",
    "print(\"Minimum Validation Loss: {:0.4f}\".format(history_df['val_loss'].min()));"
   ]
  },
  {
   "cell_type": "markdown",
   "id": "18b841b5",
   "metadata": {
    "papermill": {
     "duration": 0.015683,
     "end_time": "2022-07-24T12:13:55.689670",
     "exception": false,
     "start_time": "2022-07-24T12:13:55.673987",
     "status": "completed"
    },
    "tags": []
   },
   "source": [
    "# 2) Add Capacity\n",
    "\n",
    "What is your evaluation of these curves? Underfitting, overfitting, just right?"
   ]
  },
  {
   "cell_type": "code",
   "execution_count": 7,
   "id": "de552df7",
   "metadata": {
    "execution": {
     "iopub.execute_input": "2022-07-24T12:13:55.724136Z",
     "iopub.status.busy": "2022-07-24T12:13:55.723040Z",
     "iopub.status.idle": "2022-07-24T12:13:55.731834Z",
     "shell.execute_reply": "2022-07-24T12:13:55.730734Z"
    },
    "papermill": {
     "duration": 0.027928,
     "end_time": "2022-07-24T12:13:55.733816",
     "exception": false,
     "start_time": "2022-07-24T12:13:55.705888",
     "status": "completed"
    },
    "tags": []
   },
   "outputs": [
    {
     "data": {
      "application/javascript": [
       "parent.postMessage({\"jupyterEvent\": \"custom.exercise_interaction\", \"data\": {\"outcomeType\": 1, \"valueTowardsCompletion\": 0.25, \"interactionType\": 1, \"questionType\": 4, \"questionId\": \"2_Q2\", \"learnToolsVersion\": \"0.3.4\", \"failureMessage\": \"\", \"exceptionClass\": \"\", \"trace\": \"\"}}, \"*\")"
      ],
      "text/plain": [
       "<IPython.core.display.Javascript object>"
      ]
     },
     "metadata": {},
     "output_type": "display_data"
    },
    {
     "data": {
      "text/markdown": [
       "<span style=\"color:#33cc33\">Correct:</span> \n",
       "\n",
       "Now the validation loss begins to rise very early, while the training loss continues to decrease. This indicates that the network has begun to overfit. At this point, we would need to try something to prevent it, either by reducing the number of units or through a method like early stopping. (We'll see another in the next lesson!)"
      ],
      "text/plain": [
       "Correct: \n",
       "\n",
       "Now the validation loss begins to rise very early, while the training loss continues to decrease. This indicates that the network has begun to overfit. At this point, we would need to try something to prevent it, either by reducing the number of units or through a method like early stopping. (We'll see another in the next lesson!)"
      ]
     },
     "metadata": {},
     "output_type": "display_data"
    }
   ],
   "source": [
    "# View the solution (Run this cell to receive credit!)\n",
    "q_2.check()"
   ]
  },
  {
   "cell_type": "markdown",
   "id": "f38fbb4f",
   "metadata": {
    "papermill": {
     "duration": 0.015719,
     "end_time": "2022-07-24T12:13:55.765721",
     "exception": false,
     "start_time": "2022-07-24T12:13:55.750002",
     "status": "completed"
    },
    "tags": []
   },
   "source": [
    "# 3) Define Early Stopping Callback\n",
    "\n",
    "Now define an early stopping callback that waits 5 epochs (`patience'`) for a change in validation loss of at least `0.001` (`min_delta`) and keeps the weights with the best loss (`restore_best_weights`)."
   ]
  },
  {
   "cell_type": "code",
   "execution_count": 8,
   "id": "f16b2a4b",
   "metadata": {
    "execution": {
     "iopub.execute_input": "2022-07-24T12:13:55.799606Z",
     "iopub.status.busy": "2022-07-24T12:13:55.799223Z",
     "iopub.status.idle": "2022-07-24T12:13:55.809027Z",
     "shell.execute_reply": "2022-07-24T12:13:55.807817Z"
    },
    "lines_to_next_cell": 0,
    "papermill": {
     "duration": 0.029649,
     "end_time": "2022-07-24T12:13:55.811401",
     "exception": false,
     "start_time": "2022-07-24T12:13:55.781752",
     "status": "completed"
    },
    "tags": []
   },
   "outputs": [
    {
     "data": {
      "application/javascript": [
       "parent.postMessage({\"jupyterEvent\": \"custom.exercise_interaction\", \"data\": {\"outcomeType\": 1, \"valueTowardsCompletion\": 0.25, \"interactionType\": 1, \"questionType\": 2, \"questionId\": \"3_Q3\", \"learnToolsVersion\": \"0.3.4\", \"failureMessage\": \"\", \"exceptionClass\": \"\", \"trace\": \"\"}}, \"*\")"
      ],
      "text/plain": [
       "<IPython.core.display.Javascript object>"
      ]
     },
     "metadata": {},
     "output_type": "display_data"
    },
    {
     "data": {
      "text/markdown": [
       "<span style=\"color:#33cc33\">Correct</span>"
      ],
      "text/plain": [
       "Correct"
      ]
     },
     "metadata": {},
     "output_type": "display_data"
    }
   ],
   "source": [
    "from tensorflow.keras import callbacks\n",
    "\n",
    "# YOUR CODE HERE: define an early stopping callback\n",
    "\n",
    "early_stopping = callbacks.EarlyStopping(\n",
    "    patience=5,\n",
    "    min_delta=0.001,\n",
    "    restore_best_weights=True,\n",
    ")\n",
    "# Check your answer\n",
    "q_3.check()"
   ]
  },
  {
   "cell_type": "markdown",
   "id": "68e741f0",
   "metadata": {
    "papermill": {
     "duration": 0.016028,
     "end_time": "2022-07-24T12:13:55.844094",
     "exception": false,
     "start_time": "2022-07-24T12:13:55.828066",
     "status": "completed"
    },
    "tags": []
   },
   "source": [
    "Now run this cell to train the model and get the learning curves. Notice the `callbacks` argument in `model.fit`."
   ]
  },
  {
   "cell_type": "code",
   "execution_count": 9,
   "id": "a5f204fd",
   "metadata": {
    "execution": {
     "iopub.execute_input": "2022-07-24T12:13:55.878575Z",
     "iopub.status.busy": "2022-07-24T12:13:55.877874Z",
     "iopub.status.idle": "2022-07-24T12:13:58.512310Z",
     "shell.execute_reply": "2022-07-24T12:13:58.511378Z"
    },
    "papermill": {
     "duration": 2.654506,
     "end_time": "2022-07-24T12:13:58.514683",
     "exception": false,
     "start_time": "2022-07-24T12:13:55.860177",
     "status": "completed"
    },
    "tags": []
   },
   "outputs": [
    {
     "name": "stdout",
     "output_type": "stream",
     "text": [
      "Epoch 1/50\n",
      "48/48 [==============================] - 1s 7ms/step - loss: 0.2366 - val_loss: 0.2085\n",
      "Epoch 2/50\n",
      "48/48 [==============================] - 0s 4ms/step - loss: 0.2022 - val_loss: 0.1996\n",
      "Epoch 3/50\n",
      "48/48 [==============================] - 0s 4ms/step - loss: 0.1976 - val_loss: 0.1975\n",
      "Epoch 4/50\n",
      "48/48 [==============================] - 0s 4ms/step - loss: 0.1941 - val_loss: 0.1970\n",
      "Epoch 5/50\n",
      "48/48 [==============================] - 0s 4ms/step - loss: 0.1920 - val_loss: 0.1957\n",
      "Epoch 6/50\n",
      "48/48 [==============================] - 0s 4ms/step - loss: 0.1901 - val_loss: 0.1950\n",
      "Epoch 7/50\n",
      "48/48 [==============================] - 0s 4ms/step - loss: 0.1895 - val_loss: 0.1973\n",
      "Epoch 8/50\n",
      "48/48 [==============================] - 0s 4ms/step - loss: 0.1880 - val_loss: 0.1952\n",
      "Epoch 9/50\n",
      "48/48 [==============================] - 0s 4ms/step - loss: 0.1862 - val_loss: 0.1970\n",
      "Epoch 10/50\n",
      "48/48 [==============================] - 0s 4ms/step - loss: 0.1857 - val_loss: 0.1958\n",
      "Minimum Validation Loss: 0.1950\n"
     ]
    },
    {
     "data": {
      "image/png": "[encoded data removed]",
      "text/plain": [
       "<Figure size 432x288 with 1 Axes>"
      ]
     },
     "metadata": {},
     "output_type": "display_data"
    }
   ],
   "source": [
    "model = keras.Sequential([\n",
    "    layers.Dense(128, activation='relu', input_shape=input_shape),\n",
    "    layers.Dense(64, activation='relu'),    \n",
    "    layers.Dense(1)\n",
    "])\n",
    "model.compile(\n",
    "    optimizer='adam',\n",
    "    loss='mae',\n",
    ")\n",
    "history = model.fit(\n",
    "    X_train, y_train,\n",
    "    validation_data=(X_valid, y_valid),\n",
    "    batch_size=512,\n",
    "    epochs=50,\n",
    "    callbacks=[early_stopping]\n",
    ")\n",
    "history_df = pd.DataFrame(history.history)\n",
    "history_df.loc[:, ['loss', 'val_loss']].plot()\n",
    "print(\"Minimum Validation Loss: {:0.4f}\".format(history_df['val_loss'].min()));"
   ]
  },
  {
   "cell_type": "markdown",
   "id": "bd09f0fe",
   "metadata": {
    "papermill": {
     "duration": 0.018425,
     "end_time": "2022-07-24T12:13:58.552607",
     "exception": false,
     "start_time": "2022-07-24T12:13:58.534182",
     "status": "completed"
    },
    "tags": []
   },
   "source": [
    "# 4) Train and Interpret\n",
    "\n",
    "Was this an improvement compared to training without early stopping?"
   ]
  },
  {
   "cell_type": "code",
   "execution_count": 10,
   "id": "e59f894c",
   "metadata": {
    "execution": {
     "iopub.execute_input": "2022-07-24T12:13:58.592407Z",
     "iopub.status.busy": "2022-07-24T12:13:58.592008Z",
     "iopub.status.idle": "2022-07-24T12:13:58.601258Z",
     "shell.execute_reply": "2022-07-24T12:13:58.600156Z"
    },
    "papermill": {
     "duration": 0.031814,
     "end_time": "2022-07-24T12:13:58.603417",
     "exception": false,
     "start_time": "2022-07-24T12:13:58.571603",
     "status": "completed"
    },
    "tags": []
   },
   "outputs": [
    {
     "data": {
      "application/javascript": [
       "parent.postMessage({\"jupyterEvent\": \"custom.exercise_interaction\", \"data\": {\"outcomeType\": 1, \"valueTowardsCompletion\": 0.25, \"interactionType\": 1, \"questionType\": 4, \"questionId\": \"4_Q4\", \"learnToolsVersion\": \"0.3.4\", \"failureMessage\": \"\", \"exceptionClass\": \"\", \"trace\": \"\"}}, \"*\")"
      ],
      "text/plain": [
       "<IPython.core.display.Javascript object>"
      ]
     },
     "metadata": {},
     "output_type": "display_data"
    },
    {
     "data": {
      "text/markdown": [
       "<span style=\"color:#33cc33\">Correct:</span> \n",
       "\n",
       "The early stopping callback did stop the training once the network began overfitting. Moreover, by including `restore_best_weights` we still get to keep the model where validation loss was lowest."
      ],
      "text/plain": [
       "Correct: \n",
       "\n",
       "The early stopping callback did stop the training once the network began overfitting. Moreover, by including `restore_best_weights` we still get to keep the model where validation loss was lowest."
      ]
     },
     "metadata": {},
     "output_type": "display_data"
    }
   ],
   "source": [
    "# View the solution (Run this cell to receive credit!)\n",
    "q_4.check()"
   ]
  },
  {
   "cell_type": "markdown",
   "id": "a3405ddc",
   "metadata": {
    "papermill": {
     "duration": 0.018685,
     "end_time": "2022-07-24T12:13:58.641345",
     "exception": false,
     "start_time": "2022-07-24T12:13:58.622660",
     "status": "completed"
    },
    "tags": []
   },
   "source": [
    "If you like, try experimenting with `patience` and `min_delta` to see what difference it might make.\n",
    "\n",
    "# Keep Going #\n",
    "\n",
    "Move on to [**learn about a couple of special layers**](https://www.kaggle.com/ryanholbrook/dropout-and-batch-normalization): batch normalization and dropout."
   ]
  },
  {
   "cell_type": "markdown",
   "id": "5c4af82c",
   "metadata": {
    "papermill": {
     "duration": 0.018495,
     "end_time": "2022-07-24T12:13:58.678695",
     "exception": false,
     "start_time": "2022-07-24T12:13:58.660200",
     "status": "completed"
    },
    "tags": []
   },
   "source": [
    "---\n",
    "\n",
    "\n",
    "\n",
    "\n",
    "*Have questions or comments? Visit the [course discussion forum](https://www.kaggle.com/learn/intro-to-deep-learning/discussion) to chat with other learners.*"
   ]
  },
  {
   "cell_type": "code",
   "execution_count": null,
   "id": "8167fdd0",
   "metadata": {
    "papermill": {
     "duration": 0.018722,
     "end_time": "2022-07-24T12:13:58.716226",
     "exception": false,
     "start_time": "2022-07-24T12:13:58.697504",
     "status": "completed"
    },
    "tags": []
   },
   "outputs": [],
   "source": []
  }
 ],
 "metadata": {
  "kernelspec": {
   "display_name": "Python 3",
   "language": "python",
   "name": "python3"
  },
  "language_info": {
   "codemirror_mode": {
    "name": "ipython",
    "version": 3
   },
   "file_extension": ".py",
   "mimetype": "text/x-python",
   "name": "python",
   "nbconvert_exporter": "python",
   "pygments_lexer": "ipython3",
   "version": "3.7.12"
  },
  "papermill": {
   "default_parameters": {},
   "duration": 39.627242,
   "end_time": "2022-07-24T12:14:01.450160",
   "environment_variables": {},
   "exception": null,
   "input_path": "__notebook__.ipynb",
   "output_path": "__notebook__.ipynb",
   "parameters": {},
   "start_time": "2022-07-24T12:13:21.822918",
   "version": "2.3.4"
  }
 },
 "nbformat": 4,
 "nbformat_minor": 5
}
