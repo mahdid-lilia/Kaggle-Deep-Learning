{
 "cells": [
  {
   "cell_type": "markdown",
   "id": "4ade020a",
   "metadata": {
    "papermill": {
     "duration": 0.015794,
     "end_time": "2022-05-13T03:06:57.574405",
     "exception": false,
     "start_time": "2022-05-13T03:06:57.558611",
     "status": "completed"
    },
    "tags": []
   },
   "source": [
    "**This notebook is an exercise in the [Intro to Deep Learning](https://www.kaggle.com/learn/intro-to-deep-learning) course.  You can reference the tutorial at [this link](https://www.kaggle.com/ryanholbrook/a-single-neuron).**\n",
    "\n",
    "---\n"
   ]
  },
  {
   "cell_type": "markdown",
   "id": "fa5cc083",
   "metadata": {
    "papermill": {
     "duration": 0.014269,
     "end_time": "2022-05-13T03:06:57.603404",
     "exception": false,
     "start_time": "2022-05-13T03:06:57.589135",
     "status": "completed"
    },
    "tags": []
   },
   "source": [
    "# Introduction #\n",
    "\n",
    "In the tutorial we learned about the building blocks of neural networks: *linear units*. We saw that a model of just one linear unit will fit a linear function to a dataset (equivalent to linear regression). In this exercise, you'll build a linear model and get some practice working with models in Keras.\n",
    "\n",
    "Before you get started, run the code cell below to set everything up."
   ]
  },
  {
   "cell_type": "code",
   "execution_count": 1,
   "id": "21d84913",
   "metadata": {
    "execution": {
     "iopub.execute_input": "2022-05-13T03:06:57.634868Z",
     "iopub.status.busy": "2022-05-13T03:06:57.634431Z",
     "iopub.status.idle": "2022-05-13T03:07:03.725783Z",
     "shell.execute_reply": "2022-05-13T03:07:03.724679Z"
    },
    "papermill": {
     "duration": 6.1106,
     "end_time": "2022-05-13T03:07:03.728527",
     "exception": false,
     "start_time": "2022-05-13T03:06:57.617927",
     "status": "completed"
    },
    "tags": []
   },
   "outputs": [],
   "source": [
    "# Setup plotting\n",
    "import matplotlib.pyplot as plt\n",
    "\n",
    "plt.style.use('seaborn-whitegrid')\n",
    "# Set Matplotlib defaults\n",
    "plt.rc('figure', autolayout=True)\n",
    "plt.rc('axes', labelweight='bold', labelsize='large',\n",
    "       titleweight='bold', titlesize=18, titlepad=10)\n",
    "\n",
    "# Setup feedback system\n",
    "from learntools.core import binder\n",
    "binder.bind(globals())\n",
    "from learntools.deep_learning_intro.ex1 import *"
   ]
  },
  {
   "cell_type": "markdown",
   "id": "5242f985",
   "metadata": {
    "papermill": {
     "duration": 0.014571,
     "end_time": "2022-05-13T03:07:03.757741",
     "exception": false,
     "start_time": "2022-05-13T03:07:03.743170",
     "status": "completed"
    },
    "tags": []
   },
   "source": [
    "The *Red Wine Quality* dataset consists of physiochemical measurements from about 1600 Portuguese red wines.  Also included is a quality rating for each wine from blind taste-tests. \n",
    "\n",
    "First, run the next cell to display the first few rows of this dataset."
   ]
  },
  {
   "cell_type": "code",
   "execution_count": 2,
   "id": "410923f8",
   "metadata": {
    "execution": {
     "iopub.execute_input": "2022-05-13T03:07:03.789119Z",
     "iopub.status.busy": "2022-05-13T03:07:03.788812Z",
     "iopub.status.idle": "2022-05-13T03:07:03.848396Z",
     "shell.execute_reply": "2022-05-13T03:07:03.847175Z"
    },
    "papermill": {
     "duration": 0.079361,
     "end_time": "2022-05-13T03:07:03.851989",
     "exception": false,
     "start_time": "2022-05-13T03:07:03.772628",
     "status": "completed"
    },
    "tags": []
   },
   "outputs": [
    {
     "data": {
      "text/html": [
       "<div>\n",
       "<style scoped>\n",
       "    .dataframe tbody tr th:only-of-type {\n",
       "        vertical-align: middle;\n",
       "    }\n",
       "\n",
       "    .dataframe tbody tr th {\n",
       "        vertical-align: top;\n",
       "    }\n",
       "\n",
       "    .dataframe thead th {\n",
       "        text-align: right;\n",
       "    }\n",
       "</style>\n",
       "<table border=\"1\" class=\"dataframe\">\n",
       "  <thead>\n",
       "    <tr style=\"text-align: right;\">\n",
       "      <th></th>\n",
       "      <th>fixed acidity</th>\n",
       "      <th>volatile acidity</th>\n",
       "      <th>citric acid</th>\n",
       "      <th>residual sugar</th>\n",
       "      <th>chlorides</th>\n",
       "      <th>free sulfur dioxide</th>\n",
       "      <th>total sulfur dioxide</th>\n",
       "      <th>density</th>\n",
       "      <th>pH</th>\n",
       "      <th>sulphates</th>\n",
       "      <th>alcohol</th>\n",
       "      <th>quality</th>\n",
       "    </tr>\n",
       "  </thead>\n",
       "  <tbody>\n",
       "    <tr>\n",
       "      <th>0</th>\n",
       "      <td>7.4</td>\n",
       "      <td>0.70</td>\n",
       "      <td>0.00</td>\n",
       "      <td>1.9</td>\n",
       "      <td>0.076</td>\n",
       "      <td>11.0</td>\n",
       "      <td>34.0</td>\n",
       "      <td>0.9978</td>\n",
       "      <td>3.51</td>\n",
       "      <td>0.56</td>\n",
       "      <td>9.4</td>\n",
       "      <td>5</td>\n",
       "    </tr>\n",
       "    <tr>\n",
       "      <th>1</th>\n",
       "      <td>7.8</td>\n",
       "      <td>0.88</td>\n",
       "      <td>0.00</td>\n",
       "      <td>2.6</td>\n",
       "      <td>0.098</td>\n",
       "      <td>25.0</td>\n",
       "      <td>67.0</td>\n",
       "      <td>0.9968</td>\n",
       "      <td>3.20</td>\n",
       "      <td>0.68</td>\n",
       "      <td>9.8</td>\n",
       "      <td>5</td>\n",
       "    </tr>\n",
       "    <tr>\n",
       "      <th>2</th>\n",
       "      <td>7.8</td>\n",
       "      <td>0.76</td>\n",
       "      <td>0.04</td>\n",
       "      <td>2.3</td>\n",
       "      <td>0.092</td>\n",
       "      <td>15.0</td>\n",
       "      <td>54.0</td>\n",
       "      <td>0.9970</td>\n",
       "      <td>3.26</td>\n",
       "      <td>0.65</td>\n",
       "      <td>9.8</td>\n",
       "      <td>5</td>\n",
       "    </tr>\n",
       "    <tr>\n",
       "      <th>3</th>\n",
       "      <td>11.2</td>\n",
       "      <td>0.28</td>\n",
       "      <td>0.56</td>\n",
       "      <td>1.9</td>\n",
       "      <td>0.075</td>\n",
       "      <td>17.0</td>\n",
       "      <td>60.0</td>\n",
       "      <td>0.9980</td>\n",
       "      <td>3.16</td>\n",
       "      <td>0.58</td>\n",
       "      <td>9.8</td>\n",
       "      <td>6</td>\n",
       "    </tr>\n",
       "    <tr>\n",
       "      <th>4</th>\n",
       "      <td>7.4</td>\n",
       "      <td>0.70</td>\n",
       "      <td>0.00</td>\n",
       "      <td>1.9</td>\n",
       "      <td>0.076</td>\n",
       "      <td>11.0</td>\n",
       "      <td>34.0</td>\n",
       "      <td>0.9978</td>\n",
       "      <td>3.51</td>\n",
       "      <td>0.56</td>\n",
       "      <td>9.4</td>\n",
       "      <td>5</td>\n",
       "    </tr>\n",
       "  </tbody>\n",
       "</table>\n",
       "</div>"
      ],
      "text/plain": [
       "   fixed acidity  volatile acidity  citric acid  residual sugar  chlorides  \\\n",
       "0            7.4              0.70         0.00             1.9      0.076   \n",
       "1            7.8              0.88         0.00             2.6      0.098   \n",
       "2            7.8              0.76         0.04             2.3      0.092   \n",
       "3           11.2              0.28         0.56             1.9      0.075   \n",
       "4            7.4              0.70         0.00             1.9      0.076   \n",
       "\n",
       "   free sulfur dioxide  total sulfur dioxide  density    pH  sulphates  \\\n",
       "0                 11.0                  34.0   0.9978  3.51       0.56   \n",
       "1                 25.0                  67.0   0.9968  3.20       0.68   \n",
       "2                 15.0                  54.0   0.9970  3.26       0.65   \n",
       "3                 17.0                  60.0   0.9980  3.16       0.58   \n",
       "4                 11.0                  34.0   0.9978  3.51       0.56   \n",
       "\n",
       "   alcohol  quality  \n",
       "0      9.4        5  \n",
       "1      9.8        5  \n",
       "2      9.8        5  \n",
       "3      9.8        6  \n",
       "4      9.4        5  "
      ]
     },
     "execution_count": 2,
     "metadata": {},
     "output_type": "execute_result"
    }
   ],
   "source": [
    "import pandas as pd\n",
    "\n",
    "red_wine = pd.read_csv('../input/dl-course-data/red-wine.csv')\n",
    "red_wine.head()"
   ]
  },
  {
   "cell_type": "markdown",
   "id": "c7a3f61b",
   "metadata": {
    "papermill": {
     "duration": 0.014729,
     "end_time": "2022-05-13T03:07:03.882391",
     "exception": false,
     "start_time": "2022-05-13T03:07:03.867662",
     "status": "completed"
    },
    "tags": []
   },
   "source": [
    "You can get the number of rows and columns of a dataframe (or a Numpy array) with the `shape` attribute."
   ]
  },
  {
   "cell_type": "code",
   "execution_count": 3,
   "id": "9bb2d7dc",
   "metadata": {
    "execution": {
     "iopub.execute_input": "2022-05-13T03:07:03.915031Z",
     "iopub.status.busy": "2022-05-13T03:07:03.914745Z",
     "iopub.status.idle": "2022-05-13T03:07:03.920901Z",
     "shell.execute_reply": "2022-05-13T03:07:03.920226Z"
    },
    "papermill": {
     "duration": 0.02483,
     "end_time": "2022-05-13T03:07:03.922699",
     "exception": false,
     "start_time": "2022-05-13T03:07:03.897869",
     "status": "completed"
    },
    "tags": []
   },
   "outputs": [
    {
     "data": {
      "text/plain": [
       "(1599, 12)"
      ]
     },
     "execution_count": 3,
     "metadata": {},
     "output_type": "execute_result"
    }
   ],
   "source": [
    "red_wine.shape # (rows, columns)"
   ]
  },
  {
   "cell_type": "markdown",
   "id": "ac0b12b5",
   "metadata": {
    "papermill": {
     "duration": 0.015162,
     "end_time": "2022-05-13T03:07:03.953151",
     "exception": false,
     "start_time": "2022-05-13T03:07:03.937989",
     "status": "completed"
    },
    "tags": []
   },
   "source": [
    "# 1) Input shape #\n",
    "\n",
    "How well can we predict a wine's perceived quality from the physiochemical measurements?  \n",
    "\n",
    "The target is `'quality'`, and the remaining columns are the features.  How would you set the `input_shape` parameter for a Keras model on this task?"
   ]
  },
  {
   "cell_type": "code",
   "execution_count": 4,
   "id": "13ea2cb4",
   "metadata": {
    "execution": {
     "iopub.execute_input": "2022-05-13T03:07:03.986212Z",
     "iopub.status.busy": "2022-05-13T03:07:03.985534Z",
     "iopub.status.idle": "2022-05-13T03:07:03.994493Z",
     "shell.execute_reply": "2022-05-13T03:07:03.993305Z"
    },
    "lines_to_next_cell": 0,
    "papermill": {
     "duration": 0.027965,
     "end_time": "2022-05-13T03:07:03.996787",
     "exception": false,
     "start_time": "2022-05-13T03:07:03.968822",
     "status": "completed"
    },
    "tags": []
   },
   "outputs": [
    {
     "data": {
      "application/javascript": [
       "parent.postMessage({\"jupyterEvent\": \"custom.exercise_interaction\", \"data\": {\"outcomeType\": 1, \"valueTowardsCompletion\": 0.3333333333333333, \"interactionType\": 1, \"questionType\": 2, \"questionId\": \"1_Q1\", \"learnToolsVersion\": \"0.3.4\", \"failureMessage\": \"\", \"exceptionClass\": \"\", \"trace\": \"\"}}, \"*\")"
      ],
      "text/plain": [
       "<IPython.core.display.Javascript object>"
      ]
     },
     "metadata": {},
     "output_type": "display_data"
    },
    {
     "data": {
      "text/markdown": [
       "<span style=\"color:#33cc33\">Correct</span>"
      ],
      "text/plain": [
       "Correct"
      ]
     },
     "metadata": {},
     "output_type": "display_data"
    }
   ],
   "source": [
    "# YOUR CODE HERE\n",
    "input_shape = [11]\n",
    "\n",
    "# Check your answer\n",
    "q_1.check()"
   ]
  },
  {
   "cell_type": "markdown",
   "id": "1f1e95e2",
   "metadata": {
    "papermill": {
     "duration": 0.017257,
     "end_time": "2022-05-13T03:07:04.030815",
     "exception": false,
     "start_time": "2022-05-13T03:07:04.013558",
     "status": "completed"
    },
    "tags": []
   },
   "source": [
    "# 2) Define a linear model\n",
    "\n",
    "Now define a linear model appropriate for this task. Pay attention to how many inputs and outputs the model should have."
   ]
  },
  {
   "cell_type": "code",
   "execution_count": 5,
   "id": "30fc6f82",
   "metadata": {
    "execution": {
     "iopub.execute_input": "2022-05-13T03:07:04.067211Z",
     "iopub.status.busy": "2022-05-13T03:07:04.066930Z",
     "iopub.status.idle": "2022-05-13T03:07:05.672010Z",
     "shell.execute_reply": "2022-05-13T03:07:05.671060Z"
    },
    "lines_to_next_cell": 0,
    "papermill": {
     "duration": 1.626791,
     "end_time": "2022-05-13T03:07:05.674269",
     "exception": false,
     "start_time": "2022-05-13T03:07:04.047478",
     "status": "completed"
    },
    "tags": []
   },
   "outputs": [
    {
     "name": "stderr",
     "output_type": "stream",
     "text": [
      "2022-05-13 03:07:05.599410: I tensorflow/core/common_runtime/process_util.cc:146] Creating new thread pool with default inter op setting: 2. Tune using inter_op_parallelism_threads for best performance.\n"
     ]
    },
    {
     "data": {
      "application/javascript": [
       "parent.postMessage({\"jupyterEvent\": \"custom.exercise_interaction\", \"data\": {\"outcomeType\": 1, \"valueTowardsCompletion\": 0.3333333333333333, \"interactionType\": 1, \"questionType\": 2, \"questionId\": \"2_Q2\", \"learnToolsVersion\": \"0.3.4\", \"failureMessage\": \"\", \"exceptionClass\": \"\", \"trace\": \"\"}}, \"*\")"
      ],
      "text/plain": [
       "<IPython.core.display.Javascript object>"
      ]
     },
     "metadata": {},
     "output_type": "display_data"
    },
    {
     "data": {
      "text/markdown": [
       "<span style=\"color:#33cc33\">Correct</span>"
      ],
      "text/plain": [
       "Correct"
      ]
     },
     "metadata": {},
     "output_type": "display_data"
    }
   ],
   "source": [
    "from tensorflow import keras\n",
    "from tensorflow.keras import layers\n",
    "\n",
    "# YOUR CODE HERE\n",
    "model = keras.Sequential([\n",
    "    layers.Dense(units=1, input_shape=[11])\n",
    "])\n",
    "\n",
    "# Check your answer\n",
    "q_2.check()"
   ]
  },
  {
   "cell_type": "markdown",
   "id": "e94bd044",
   "metadata": {
    "papermill": {
     "duration": 0.017978,
     "end_time": "2022-05-13T03:07:05.712596",
     "exception": false,
     "start_time": "2022-05-13T03:07:05.694618",
     "status": "completed"
    },
    "tags": []
   },
   "source": [
    "# 3) Look at the weights\n",
    "\n",
    "Internally, Keras represents the weights of a neural network with **tensors**. Tensors are basically TensorFlow's version of a Numpy array with a few differences that make them better suited to deep learning. One of the most important is that tensors are compatible with [GPU](https://www.kaggle.com/docs/efficient-gpu-usage) and [TPU](https://www.kaggle.com/docs/tpu)) accelerators. TPUs, in fact, are designed specifically for tensor computations.\n",
    "\n",
    "A model's weights are kept in its `weights` attribute as a list of tensors. Get the weights of the model you defined above. (If you want, you could display the weights with something like: `print(\"Weights\\n{}\\n\\nBias\\n{}\".format(w, b))`)."
   ]
  },
  {
   "cell_type": "code",
   "execution_count": 6,
   "id": "9cd4c04f",
   "metadata": {
    "execution": {
     "iopub.execute_input": "2022-05-13T03:07:05.750899Z",
     "iopub.status.busy": "2022-05-13T03:07:05.750556Z",
     "iopub.status.idle": "2022-05-13T03:07:05.763967Z",
     "shell.execute_reply": "2022-05-13T03:07:05.762585Z"
    },
    "lines_to_next_cell": 0,
    "papermill": {
     "duration": 0.035528,
     "end_time": "2022-05-13T03:07:05.766411",
     "exception": false,
     "start_time": "2022-05-13T03:07:05.730883",
     "status": "completed"
    },
    "tags": []
   },
   "outputs": [
    {
     "name": "stdout",
     "output_type": "stream",
     "text": [
      "Weights\n",
      "<tf.Variable 'dense/kernel:0' shape=(11, 1) dtype=float32, numpy=\n",
      "array([[ 0.6872485 ],\n",
      "       [-0.353578  ],\n",
      "       [ 0.08443141],\n",
      "       [ 0.5476566 ],\n",
      "       [-0.07581764],\n",
      "       [ 0.32799608],\n",
      "       [-0.49819666],\n",
      "       [-0.46374428],\n",
      "       [-0.52789634],\n",
      "       [ 0.26719278],\n",
      "       [ 0.07614803]], dtype=float32)>\n",
      "\n",
      "Bias\n",
      "<tf.Variable 'dense/bias:0' shape=(1,) dtype=float32, numpy=array([0.], dtype=float32)>\n"
     ]
    },
    {
     "data": {
      "application/javascript": [
       "parent.postMessage({\"jupyterEvent\": \"custom.exercise_interaction\", \"data\": {\"outcomeType\": 1, \"valueTowardsCompletion\": 0.3333333333333333, \"interactionType\": 1, \"questionType\": 2, \"questionId\": \"3_Q3\", \"learnToolsVersion\": \"0.3.4\", \"failureMessage\": \"\", \"exceptionClass\": \"\", \"trace\": \"\"}}, \"*\")"
      ],
      "text/plain": [
       "<IPython.core.display.Javascript object>"
      ]
     },
     "metadata": {},
     "output_type": "display_data"
    },
    {
     "data": {
      "text/markdown": [
       "<span style=\"color:#33cc33\">Correct:</span> Do you see how there's one weight for each input (and a bias)? Notice though that there doesn't seem to be any pattern to the values the weights have. Before the model is trained, the weights are set to random numbers (and the bias to 0.0). A neural network learns by finding better values for its weights.\n"
      ],
      "text/plain": [
       "Correct: Do you see how there's one weight for each input (and a bias)? Notice though that there doesn't seem to be any pattern to the values the weights have. Before the model is trained, the weights are set to random numbers (and the bias to 0.0). A neural network learns by finding better values for its weights."
      ]
     },
     "metadata": {},
     "output_type": "display_data"
    }
   ],
   "source": [
    "# YOUR CODE HERE\n",
    "w, b = model.weights\n",
    "print(\"Weights\\n{}\\n\\nBias\\n{}\".format(w, b))\n",
    "# Check your answer\n",
    "q_3.check()"
   ]
  },
  {
   "cell_type": "markdown",
   "id": "38a5cb79",
   "metadata": {
    "papermill": {
     "duration": 0.020438,
     "end_time": "2022-05-13T03:07:05.807109",
     "exception": false,
     "start_time": "2022-05-13T03:07:05.786671",
     "status": "completed"
    },
    "tags": []
   },
   "source": [
    "(By the way, Keras represents weights as tensors, but also uses tensors to represent data. When you set the `input_shape` argument, you are telling Keras the dimensions of the array it should expect for each example in the training data. Setting `input_shape=[3]` would create a network accepting vectors of length 3, like `[0.2, 0.4, 0.6]`.)\n",
    " \n",
    "\n",
    "# Optional: Plot the output of an untrained linear model\n",
    " \n",
    "The kinds of problems we'll work on through Lesson 5 will be *regression* problems, where the goal is to predict some numeric target. Regression problems are like \"curve-fitting\" problems: we're trying to find a curve that best fits the data. Let's take a look at the \"curve\" produced by a linear model. (You've probably guessed that it's a line!)\n",
    " \n",
    "We mentioned that before training a model's weights are set randomly. Run the cell below a few times to see the different lines produced with a random initialization. (There's no coding for this exercise -- it's just a demonstration.)"
   ]
  },
  {
   "cell_type": "code",
   "execution_count": 7,
   "id": "a8760247",
   "metadata": {
    "execution": {
     "iopub.execute_input": "2022-05-13T03:07:05.853754Z",
     "iopub.status.busy": "2022-05-13T03:07:05.853413Z",
     "iopub.status.idle": "2022-05-13T03:07:06.630100Z",
     "shell.execute_reply": "2022-05-13T03:07:06.629121Z"
    },
    "lines_to_next_cell": 0,
    "papermill": {
     "duration": 0.802333,
     "end_time": "2022-05-13T03:07:06.632945",
     "exception": false,
     "start_time": "2022-05-13T03:07:05.830612",
     "status": "completed"
    },
    "tags": []
   },
   "outputs": [
    {
     "name": "stderr",
     "output_type": "stream",
     "text": [
      "2022-05-13 03:07:06.032522: I tensorflow/compiler/mlir/mlir_graph_optimization_pass.cc:185] None of the MLIR Optimization Passes are enabled (registered 2)\n"
     ]
    },
    {
     "data": {
      "image/png": "[encoded data removed]",
      "text/plain": [
       "<Figure size 600x400 with 1 Axes>"
      ]
     },
     "metadata": {},
     "output_type": "display_data"
    }
   ],
   "source": [
    "import tensorflow as tf\n",
    "import matplotlib.pyplot as plt\n",
    "\n",
    "model = keras.Sequential([\n",
    "    layers.Dense(1, input_shape=[1]),\n",
    "])\n",
    "\n",
    "x = tf.linspace(-1.0, 1.0, 100)\n",
    "y = model.predict(x)\n",
    "\n",
    "plt.figure(dpi=100)\n",
    "plt.plot(x, y, 'k')\n",
    "plt.xlim(-1, 1)\n",
    "plt.ylim(-1, 1)\n",
    "plt.xlabel(\"Input: x\")\n",
    "plt.ylabel(\"Target y\")\n",
    "w, b = model.weights # you could also use model.get_weights() here\n",
    "plt.title(\"Weight: {:0.2f}\\nBias: {:0.2f}\".format(w[0][0], b[0]))\n",
    "plt.show()"
   ]
  },
  {
   "cell_type": "markdown",
   "id": "7ca2963c",
   "metadata": {
    "papermill": {
     "duration": 0.022153,
     "end_time": "2022-05-13T03:07:06.678732",
     "exception": false,
     "start_time": "2022-05-13T03:07:06.656579",
     "status": "completed"
    },
    "tags": []
   },
   "source": [
    "# Keep Going #\n",
    "\n",
    "Add hidden layers and [**make your models deep**](https://www.kaggle.com/ryanholbrook/deep-neural-networks) in Lesson 2."
   ]
  },
  {
   "cell_type": "markdown",
   "id": "0e8a193e",
   "metadata": {
    "papermill": {
     "duration": 0.022407,
     "end_time": "2022-05-13T03:07:06.724820",
     "exception": false,
     "start_time": "2022-05-13T03:07:06.702413",
     "status": "completed"
    },
    "tags": []
   },
   "source": [
    "---\n",
    "\n",
    "\n",
    "\n",
    "\n",
    "*Have questions or comments? Visit the [course discussion forum](https://www.kaggle.com/learn/intro-to-deep-learning/discussion) to chat with other learners.*"
   ]
  }
 ],
 "metadata": {
  "kernelspec": {
   "display_name": "Python 3",
   "language": "python",
   "name": "python3"
  },
  "language_info": {
   "codemirror_mode": {
    "name": "ipython",
    "version": 3
   },
   "file_extension": ".py",
   "mimetype": "text/x-python",
   "name": "python",
   "nbconvert_exporter": "python",
   "pygments_lexer": "ipython3",
   "version": "3.7.12"
  },
  "papermill": {
   "default_parameters": {},
   "duration": 23.708929,
   "end_time": "2022-05-13T03:07:09.471468",
   "environment_variables": {},
   "exception": null,
   "input_path": "__notebook__.ipynb",
   "output_path": "__notebook__.ipynb",
   "parameters": {},
   "start_time": "2022-05-13T03:06:45.762539",
   "version": "2.3.4"
  }
 },
 "nbformat": 4,
 "nbformat_minor": 5
}
